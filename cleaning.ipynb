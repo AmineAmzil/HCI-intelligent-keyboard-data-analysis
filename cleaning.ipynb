{
 "cells": [
  {
   "cell_type": "code",
   "execution_count": 75,
   "metadata": {},
   "outputs": [],
   "source": [
    "library(readr)\n",
    "library(dplyr)\n",
    "library(tidyr)\n",
    "library(skimr)"
   ]
  },
  {
   "cell_type": "markdown",
   "metadata": {},
   "source": [
    "# reading the data"
   ]
  },
  {
   "cell_type": "code",
   "execution_count": 76,
   "metadata": {},
   "outputs": [
    {
     "name": "stderr",
     "output_type": "stream",
     "text": [
      "\n",
      "-- Column specification --------------------------------------------------------\n",
      "cols(\n",
      "  age = col_double(),\n",
      "  avrageDailyTyping = col_double(),\n",
      "  createdAt = col_datetime(format = \"\"),\n",
      "  englishUse = col_character(),\n",
      "  gender = col_character(),\n",
      "  isTypist = col_logical(),\n",
      "  keyboardLayout = col_character(),\n",
      "  keyboardProfile = col_character(),\n",
      "  matriculationNumber = col_character(),\n",
      "  nativeLanguage = col_character(),\n",
      "  participantId = col_character(),\n",
      "  touchTypingCourse = col_logical(),\n",
      "  updatedAt = col_datetime(format = \"\"),\n",
      "  usedFingers = col_double(),\n",
      "  usedHand = col_character()\n",
      ")\n",
      "\n"
     ]
    },
    {
     "name": "stdout",
     "output_type": "stream",
     "text": [
      "Rows: 20\n",
      "Columns: 15\n",
      "$ age                 <dbl> 24, 24, 23, 23, 24, 24, 22, 21, 27, 21, 21, 21, 23~\n",
      "$ avrageDailyTyping   <dbl> 2, 2, 2, 8, 5, 5, 3, 5, 3, 1, 2, 1, 4, 2, 1, 1, 10~\n",
      "$ createdAt           <dttm> 2022-02-09 09:54:32, 2022-02-09 10:01:51, 2022-02~\n",
      "$ englishUse          <chr> \"usually\", \"sometimes\", \"sometimes\", \"usually\", \"u~\n",
      "$ gender              <chr> \"m\", \"m\", \"m\", \"m\", \"m\", \"m\", \"m\", \"w\", \"w\", \"m\", ~\n",
      "$ isTypist            <lgl> TRUE, FALSE, FALSE, TRUE, FALSE, FALSE, FALSE, FAL~\n",
      "$ keyboardLayout      <chr> \"qwerty\", \"qwertz\", \"qwertz\", \"qwertz\", \"qwertz\", ~\n",
      "$ keyboardProfile     <chr> \"high\", \"low\", \"high\", \"low\", \"low\", \"high\", \"low\"~\n",
      "$ matriculationNumber <chr> \"2k6c3UE1moGMXX5sANSS\", \"ZWH1by2chTTjxC5xBonl\", \"o~\n",
      "$ nativeLanguage      <chr> \"german\", \"german\", \"german\", \"german\", \"german\", ~\n",
      "$ participantId       <chr> \"2k6c3UE1moGMXX5sANSS\", \"ZWH1by2chTTjxC5xBonl\", \"o~\n",
      "$ touchTypingCourse   <lgl> FALSE, FALSE, FALSE, TRUE, FALSE, TRUE, FALSE, FAL~\n",
      "$ updatedAt           <dttm> 2022-02-09 09:54:32, 2022-02-09 10:01:51, 2022-02~\n",
      "$ usedFingers         <dbl> 10, 6, 4, 10, 8, 7, 6, 7, 6, 8, 10, 4, 4, 5, 10, 1~\n",
      "$ usedHand            <chr> \"both\", \"both\", \"both\", \"both\", \"both\", \"both\", \"b~\n"
     ]
    }
   ],
   "source": [
    "participants <- read_csv('raw_data/participants.csv')\n",
    "glimpse(participants)"
   ]
  },
  {
   "cell_type": "code",
   "execution_count": 77,
   "metadata": {},
   "outputs": [
    {
     "name": "stderr",
     "output_type": "stream",
     "text": [
      "\n",
      "-- Column specification --------------------------------------------------------\n",
      "cols(\n",
      "  condition = col_character(),\n",
      "  createdAt = col_datetime(format = \"\"),\n",
      "  participantId = col_character(),\n",
      "  testId = col_character(),\n",
      "  updatedAt = col_datetime(format = \"\")\n",
      ")\n",
      "\n"
     ]
    },
    {
     "name": "stdout",
     "output_type": "stream",
     "text": [
      "Rows: 60\n",
      "Columns: 5\n",
      "$ condition     <chr> \"off\", \"normal\", \"enhanced\", \"off\", \"normal\", \"enhanced\"~\n",
      "$ createdAt     <dttm> 2022-02-09 09:54:39, 2022-02-09 09:56:11, 2022-02-09 09~\n",
      "$ participantId <chr> \"2k6c3UE1moGMXX5sANSS\", \"2k6c3UE1moGMXX5sANSS\", \"2k6c3UE~\n",
      "$ testId        <chr> \"2xLmSHgHeUSCsObsz9Vr\", \"kqMna9qVOShlqvQ9xYsO\", \"oRp2fs4~\n",
      "$ updatedAt     <dttm> 2022-02-09 09:54:39, 2022-02-09 09:56:11, 2022-02-09 09~\n"
     ]
    }
   ],
   "source": [
    "tests <- read_csv('raw_data/tests.csv')\n",
    "glimpse(tests)"
   ]
  },
  {
   "cell_type": "code",
   "execution_count": 78,
   "metadata": {},
   "outputs": [
    {
     "name": "stderr",
     "output_type": "stream",
     "text": [
      "\n",
      "-- Column specification --------------------------------------------------------\n",
      "cols(\n",
      "  .default = col_double(),\n",
      "  CONDITION = col_character(),\n",
      "  ID = col_character(),\n",
      "  PT = col_character(),\n",
      "  SESSION = col_character(),\n",
      "  TT = col_character()\n",
      ")\n",
      "i Use `spec()` for the full column specifications.\n",
      "\n"
     ]
    },
    {
     "name": "stdout",
     "output_type": "stream",
     "text": [
      "Rows: 715\n",
      "Columns: 28\n",
      "$ BACKSPACE_COUNT          <dbl> 0, 3, 0, 0, 0, 2, 0, 0, 0, 2, 0, 0, 0, 1, 0, ~\n",
      "$ CAC                      <dbl> 0, 5, 0, 0, 0, 2, 0, 0, 0, 2, 0, 0, 0, 1, 0, ~\n",
      "$ CAR                      <dbl> 0.000000, 12.820513, 0.000000, 0.000000, 0.00~\n",
      "$ CAT_R                    <dbl> 0.000000, 78.966354, 0.000000, 0.000000, 0.00~\n",
      "$ CCC                      <dbl> 0, 2, 0, 0, 0, 0, 0, 0, 0, 0, 0, 0, 0, 0, 0, ~\n",
      "$ CONDITION                <chr> \"off\", \"off\", \"off\", \"off\", \"off\", \"off\", \"of~\n",
      "$ CORRECTED_ERROR_RATE     <dbl> 0.000000, 8.823529, 0.000000, 0.000000, 0.000~\n",
      "$ CPS                      <dbl> 7.842205, 1.967600, 11.331445, 8.717762, 6.07~\n",
      "$ ERROR_RATE               <dbl> 0.000000, 0.000000, 0.000000, 0.000000, 0.000~\n",
      "$ ID                       <chr> \"2xLmSHgHeUSCsObsz9Vr\", \"2xLmSHgHeUSCsObsz9Vr~\n",
      "$ INPUT_TIME               <dbl> 4.208, 15.247, 2.471, 2.753, 5.100, 4.935, 2.~\n",
      "$ IS_LENGTH                <dbl> 37, 39, 29, 25, 32, 31, 24, 27, 29, 27, 30, 2~\n",
      "$ KEYSTROKES_PER_CHARACTER <dbl> 1.088235, 1.258065, 1.000000, 1.000000, 1.000~\n",
      "$ LEVENSHTEIN_DELETION     <dbl> 0, 0, 0, 0, 0, 0, 0, 1, 0, 0, 0, 0, 0, 0, 0, ~\n",
      "$ LEVENSHTEIN_INSERTION    <dbl> 0, 0, 0, 0, 0, 0, 0, 1, 0, 0, 0, 0, 0, 0, 0, ~\n",
      "$ LEVENSHTEIN_SUBSTITUTION <dbl> 0, 0, 0, 0, 0, 0, 0, 0, 0, 0, 0, 0, 0, 0, 0, ~\n",
      "$ MINIMUM_STRING_DISTANCE  <dbl> 0.000000, 0.000000, 0.000000, 0.000000, 0.000~\n",
      "$ PHRASE_NUMBER            <dbl> 2, 1, 4, 5, 3, 8, 9, 7, 6, 11, 12, 10, 2, 3, ~\n",
      "$ PT                       <chr> \"staying up all night is a bad idea\", \"your p~\n",
      "$ PT_LENGTH                <dbl> 34, 31, 29, 25, 32, 27, 24, 27, 29, 23, 30, 2~\n",
      "$ SESSION                  <chr> \"2k6c3UE1moGMXX5sANSS\", \"2k6c3UE1moGMXX5sANSS~\n",
      "$ TOTAL_ERROR_RATE         <dbl> 0.000000, 8.823529, 0.000000, 0.000000, 0.000~\n",
      "$ TOTAL_PHRASES            <dbl> 12, 12, 12, 12, 12, 12, 12, 12, 12, 12, 12, 1~\n",
      "$ TT                       <chr> \"staying up all night is a bad idea\", \"your p~\n",
      "$ TT_LENGTH                <dbl> 34, 31, 29, 25, 32, 27, 24, 27, 29, 23, 30, 2~\n",
      "$ T_CAT                    <dbl> 0.000, 12.040, 0.000, 0.000, 0.000, 0.655, 0.~\n",
      "$ VST                      <dbl> 169, 2145, 186, 105, 193, 101, 106, 174, 270,~\n",
      "$ WPM                      <dbl> 94.10646, 23.61120, 135.97734, 104.61315, 72.~\n"
     ]
    }
   ],
   "source": [
    "metrics <- read_csv('raw_data/metrics.csv')\n",
    "glimpse(metrics)"
   ]
  },
  {
   "cell_type": "markdown",
   "metadata": {},
   "source": [
    "# Exploring participant data frame"
   ]
  },
  {
   "cell_type": "code",
   "execution_count": 79,
   "metadata": {},
   "outputs": [
    {
     "data": {
      "text/html": [
       "<table>\n",
       "<thead><tr><th scope=col>n</th></tr></thead>\n",
       "<tbody>\n",
       "\t<tr><td>20</td></tr>\n",
       "</tbody>\n",
       "</table>\n"
      ],
      "text/latex": [
       "\\begin{tabular}{r|l}\n",
       " n\\\\\n",
       "\\hline\n",
       "\t 20\\\\\n",
       "\\end{tabular}\n"
      ],
      "text/markdown": [
       "\n",
       "| n |\n",
       "|---|\n",
       "| 20 |\n",
       "\n"
      ],
      "text/plain": [
       "  n \n",
       "1 20"
      ]
     },
     "metadata": {},
     "output_type": "display_data"
    }
   ],
   "source": [
    "participants %>% tally()"
   ]
  },
  {
   "cell_type": "code",
   "execution_count": 80,
   "metadata": {},
   "outputs": [
    {
     "data": {
      "text/html": [
       "<table>\n",
       "<thead><tr><th scope=col>participantId</th><th scope=col>n</th></tr></thead>\n",
       "<tbody>\n",
       "\t<tr><td>1N8UzywCgZLplZWpjmhN</td><td>1                   </td></tr>\n",
       "\t<tr><td>2BYHrlcS9UljeLxeZvh5</td><td>1                   </td></tr>\n",
       "\t<tr><td>2k6c3UE1moGMXX5sANSS</td><td>1                   </td></tr>\n",
       "\t<tr><td>42Qb5LyAPE3NXNdu3AAl</td><td>1                   </td></tr>\n",
       "\t<tr><td>9deJ2qtKLvuqMc8ktWe9</td><td>1                   </td></tr>\n",
       "\t<tr><td>aEiApHfpgZRT6wH5qBTu</td><td>1                   </td></tr>\n",
       "\t<tr><td>bEm4bVotxdvnkHEYzzi5</td><td>1                   </td></tr>\n",
       "\t<tr><td>CGXxAdVrqubyUvVvjLHP</td><td>1                   </td></tr>\n",
       "\t<tr><td>EkyhvCQpfogVRdxisVhh</td><td>1                   </td></tr>\n",
       "\t<tr><td>G5GbEAE7kabhS3jAzlXa</td><td>1                   </td></tr>\n",
       "\t<tr><td>Geh7YCJgogwkQEr2DV4k</td><td>1                   </td></tr>\n",
       "\t<tr><td>hYt8RzR12FUutgCgq7Ou</td><td>1                   </td></tr>\n",
       "\t<tr><td>jQ2fEW8ELtGUcBqGY7YI</td><td>1                   </td></tr>\n",
       "\t<tr><td>lqKChKGGMFNaGvLCZhva</td><td>1                   </td></tr>\n",
       "\t<tr><td>og7wp8U4vBYG9qzI5h8C</td><td>1                   </td></tr>\n",
       "\t<tr><td>ojX5Z7on5WrrxvLJMqmq</td><td>1                   </td></tr>\n",
       "\t<tr><td>PGoFJfv5DkGCCwhe1tc9</td><td>1                   </td></tr>\n",
       "\t<tr><td>TDU9VfCeqMZpsWliRv2j</td><td>1                   </td></tr>\n",
       "\t<tr><td>udhdb5vpndQsjGcygZec</td><td>1                   </td></tr>\n",
       "\t<tr><td>ZWH1by2chTTjxC5xBonl</td><td>1                   </td></tr>\n",
       "</tbody>\n",
       "</table>\n"
      ],
      "text/latex": [
       "\\begin{tabular}{r|ll}\n",
       " participantId & n\\\\\n",
       "\\hline\n",
       "\t 1N8UzywCgZLplZWpjmhN & 1                   \\\\\n",
       "\t 2BYHrlcS9UljeLxeZvh5 & 1                   \\\\\n",
       "\t 2k6c3UE1moGMXX5sANSS & 1                   \\\\\n",
       "\t 42Qb5LyAPE3NXNdu3AAl & 1                   \\\\\n",
       "\t 9deJ2qtKLvuqMc8ktWe9 & 1                   \\\\\n",
       "\t aEiApHfpgZRT6wH5qBTu & 1                   \\\\\n",
       "\t bEm4bVotxdvnkHEYzzi5 & 1                   \\\\\n",
       "\t CGXxAdVrqubyUvVvjLHP & 1                   \\\\\n",
       "\t EkyhvCQpfogVRdxisVhh & 1                   \\\\\n",
       "\t G5GbEAE7kabhS3jAzlXa & 1                   \\\\\n",
       "\t Geh7YCJgogwkQEr2DV4k & 1                   \\\\\n",
       "\t hYt8RzR12FUutgCgq7Ou & 1                   \\\\\n",
       "\t jQ2fEW8ELtGUcBqGY7YI & 1                   \\\\\n",
       "\t lqKChKGGMFNaGvLCZhva & 1                   \\\\\n",
       "\t og7wp8U4vBYG9qzI5h8C & 1                   \\\\\n",
       "\t ojX5Z7on5WrrxvLJMqmq & 1                   \\\\\n",
       "\t PGoFJfv5DkGCCwhe1tc9 & 1                   \\\\\n",
       "\t TDU9VfCeqMZpsWliRv2j & 1                   \\\\\n",
       "\t udhdb5vpndQsjGcygZec & 1                   \\\\\n",
       "\t ZWH1by2chTTjxC5xBonl & 1                   \\\\\n",
       "\\end{tabular}\n"
      ],
      "text/markdown": [
       "\n",
       "| participantId | n |\n",
       "|---|---|\n",
       "| 1N8UzywCgZLplZWpjmhN | 1                    |\n",
       "| 2BYHrlcS9UljeLxeZvh5 | 1                    |\n",
       "| 2k6c3UE1moGMXX5sANSS | 1                    |\n",
       "| 42Qb5LyAPE3NXNdu3AAl | 1                    |\n",
       "| 9deJ2qtKLvuqMc8ktWe9 | 1                    |\n",
       "| aEiApHfpgZRT6wH5qBTu | 1                    |\n",
       "| bEm4bVotxdvnkHEYzzi5 | 1                    |\n",
       "| CGXxAdVrqubyUvVvjLHP | 1                    |\n",
       "| EkyhvCQpfogVRdxisVhh | 1                    |\n",
       "| G5GbEAE7kabhS3jAzlXa | 1                    |\n",
       "| Geh7YCJgogwkQEr2DV4k | 1                    |\n",
       "| hYt8RzR12FUutgCgq7Ou | 1                    |\n",
       "| jQ2fEW8ELtGUcBqGY7YI | 1                    |\n",
       "| lqKChKGGMFNaGvLCZhva | 1                    |\n",
       "| og7wp8U4vBYG9qzI5h8C | 1                    |\n",
       "| ojX5Z7on5WrrxvLJMqmq | 1                    |\n",
       "| PGoFJfv5DkGCCwhe1tc9 | 1                    |\n",
       "| TDU9VfCeqMZpsWliRv2j | 1                    |\n",
       "| udhdb5vpndQsjGcygZec | 1                    |\n",
       "| ZWH1by2chTTjxC5xBonl | 1                    |\n",
       "\n"
      ],
      "text/plain": [
       "   participantId        n\n",
       "1  1N8UzywCgZLplZWpjmhN 1\n",
       "2  2BYHrlcS9UljeLxeZvh5 1\n",
       "3  2k6c3UE1moGMXX5sANSS 1\n",
       "4  42Qb5LyAPE3NXNdu3AAl 1\n",
       "5  9deJ2qtKLvuqMc8ktWe9 1\n",
       "6  aEiApHfpgZRT6wH5qBTu 1\n",
       "7  bEm4bVotxdvnkHEYzzi5 1\n",
       "8  CGXxAdVrqubyUvVvjLHP 1\n",
       "9  EkyhvCQpfogVRdxisVhh 1\n",
       "10 G5GbEAE7kabhS3jAzlXa 1\n",
       "11 Geh7YCJgogwkQEr2DV4k 1\n",
       "12 hYt8RzR12FUutgCgq7Ou 1\n",
       "13 jQ2fEW8ELtGUcBqGY7YI 1\n",
       "14 lqKChKGGMFNaGvLCZhva 1\n",
       "15 og7wp8U4vBYG9qzI5h8C 1\n",
       "16 ojX5Z7on5WrrxvLJMqmq 1\n",
       "17 PGoFJfv5DkGCCwhe1tc9 1\n",
       "18 TDU9VfCeqMZpsWliRv2j 1\n",
       "19 udhdb5vpndQsjGcygZec 1\n",
       "20 ZWH1by2chTTjxC5xBonl 1"
      ]
     },
     "metadata": {},
     "output_type": "display_data"
    }
   ],
   "source": [
    "participants %>% group_by(participantId) %>% tally()"
   ]
  },
  {
   "cell_type": "markdown",
   "metadata": {},
   "source": [
    "# Eploring tests data frame"
   ]
  },
  {
   "cell_type": "markdown",
   "metadata": {},
   "source": [
    "##### Number of tests recorded"
   ]
  },
  {
   "cell_type": "code",
   "execution_count": 81,
   "metadata": {},
   "outputs": [
    {
     "data": {
      "text/html": [
       "<table>\n",
       "<thead><tr><th scope=col>n</th></tr></thead>\n",
       "<tbody>\n",
       "\t<tr><td>60</td></tr>\n",
       "</tbody>\n",
       "</table>\n"
      ],
      "text/latex": [
       "\\begin{tabular}{r|l}\n",
       " n\\\\\n",
       "\\hline\n",
       "\t 60\\\\\n",
       "\\end{tabular}\n"
      ],
      "text/markdown": [
       "\n",
       "| n |\n",
       "|---|\n",
       "| 60 |\n",
       "\n"
      ],
      "text/plain": [
       "  n \n",
       "1 60"
      ]
     },
     "metadata": {},
     "output_type": "display_data"
    }
   ],
   "source": [
    "tests %>% tally()"
   ]
  },
  {
   "cell_type": "markdown",
   "metadata": {},
   "source": [
    "##### Number of tests per participant recorded"
   ]
  },
  {
   "cell_type": "code",
   "execution_count": 82,
   "metadata": {},
   "outputs": [
    {
     "data": {
      "text/html": [
       "<table>\n",
       "<thead><tr><th scope=col>participantId</th><th scope=col>n_tests</th><th scope=col>n_of_conditions</th></tr></thead>\n",
       "<tbody>\n",
       "\t<tr><td>1N8UzywCgZLplZWpjmhN</td><td>3                   </td><td>3                   </td></tr>\n",
       "\t<tr><td>2BYHrlcS9UljeLxeZvh5</td><td>3                   </td><td>3                   </td></tr>\n",
       "\t<tr><td>2k6c3UE1moGMXX5sANSS</td><td>3                   </td><td>3                   </td></tr>\n",
       "\t<tr><td>42Qb5LyAPE3NXNdu3AAl</td><td>3                   </td><td>3                   </td></tr>\n",
       "\t<tr><td>9deJ2qtKLvuqMc8ktWe9</td><td>3                   </td><td>3                   </td></tr>\n",
       "\t<tr><td>aEiApHfpgZRT6wH5qBTu</td><td>3                   </td><td>3                   </td></tr>\n",
       "\t<tr><td>bEm4bVotxdvnkHEYzzi5</td><td>3                   </td><td>3                   </td></tr>\n",
       "\t<tr><td>CGXxAdVrqubyUvVvjLHP</td><td>3                   </td><td>3                   </td></tr>\n",
       "\t<tr><td>EkyhvCQpfogVRdxisVhh</td><td>3                   </td><td>3                   </td></tr>\n",
       "\t<tr><td>G5GbEAE7kabhS3jAzlXa</td><td>3                   </td><td>3                   </td></tr>\n",
       "\t<tr><td>Geh7YCJgogwkQEr2DV4k</td><td>3                   </td><td>3                   </td></tr>\n",
       "\t<tr><td>hYt8RzR12FUutgCgq7Ou</td><td>3                   </td><td>3                   </td></tr>\n",
       "\t<tr><td>jQ2fEW8ELtGUcBqGY7YI</td><td>3                   </td><td>3                   </td></tr>\n",
       "\t<tr><td>lqKChKGGMFNaGvLCZhva</td><td>3                   </td><td>3                   </td></tr>\n",
       "\t<tr><td>og7wp8U4vBYG9qzI5h8C</td><td>3                   </td><td>3                   </td></tr>\n",
       "\t<tr><td>ojX5Z7on5WrrxvLJMqmq</td><td>3                   </td><td>3                   </td></tr>\n",
       "\t<tr><td>PGoFJfv5DkGCCwhe1tc9</td><td>3                   </td><td>3                   </td></tr>\n",
       "\t<tr><td>TDU9VfCeqMZpsWliRv2j</td><td>3                   </td><td>3                   </td></tr>\n",
       "\t<tr><td>udhdb5vpndQsjGcygZec</td><td>3                   </td><td>3                   </td></tr>\n",
       "\t<tr><td>ZWH1by2chTTjxC5xBonl</td><td>3                   </td><td>3                   </td></tr>\n",
       "</tbody>\n",
       "</table>\n"
      ],
      "text/latex": [
       "\\begin{tabular}{r|lll}\n",
       " participantId & n\\_tests & n\\_of\\_conditions\\\\\n",
       "\\hline\n",
       "\t 1N8UzywCgZLplZWpjmhN & 3                    & 3                   \\\\\n",
       "\t 2BYHrlcS9UljeLxeZvh5 & 3                    & 3                   \\\\\n",
       "\t 2k6c3UE1moGMXX5sANSS & 3                    & 3                   \\\\\n",
       "\t 42Qb5LyAPE3NXNdu3AAl & 3                    & 3                   \\\\\n",
       "\t 9deJ2qtKLvuqMc8ktWe9 & 3                    & 3                   \\\\\n",
       "\t aEiApHfpgZRT6wH5qBTu & 3                    & 3                   \\\\\n",
       "\t bEm4bVotxdvnkHEYzzi5 & 3                    & 3                   \\\\\n",
       "\t CGXxAdVrqubyUvVvjLHP & 3                    & 3                   \\\\\n",
       "\t EkyhvCQpfogVRdxisVhh & 3                    & 3                   \\\\\n",
       "\t G5GbEAE7kabhS3jAzlXa & 3                    & 3                   \\\\\n",
       "\t Geh7YCJgogwkQEr2DV4k & 3                    & 3                   \\\\\n",
       "\t hYt8RzR12FUutgCgq7Ou & 3                    & 3                   \\\\\n",
       "\t jQ2fEW8ELtGUcBqGY7YI & 3                    & 3                   \\\\\n",
       "\t lqKChKGGMFNaGvLCZhva & 3                    & 3                   \\\\\n",
       "\t og7wp8U4vBYG9qzI5h8C & 3                    & 3                   \\\\\n",
       "\t ojX5Z7on5WrrxvLJMqmq & 3                    & 3                   \\\\\n",
       "\t PGoFJfv5DkGCCwhe1tc9 & 3                    & 3                   \\\\\n",
       "\t TDU9VfCeqMZpsWliRv2j & 3                    & 3                   \\\\\n",
       "\t udhdb5vpndQsjGcygZec & 3                    & 3                   \\\\\n",
       "\t ZWH1by2chTTjxC5xBonl & 3                    & 3                   \\\\\n",
       "\\end{tabular}\n"
      ],
      "text/markdown": [
       "\n",
       "| participantId | n_tests | n_of_conditions |\n",
       "|---|---|---|\n",
       "| 1N8UzywCgZLplZWpjmhN | 3                    | 3                    |\n",
       "| 2BYHrlcS9UljeLxeZvh5 | 3                    | 3                    |\n",
       "| 2k6c3UE1moGMXX5sANSS | 3                    | 3                    |\n",
       "| 42Qb5LyAPE3NXNdu3AAl | 3                    | 3                    |\n",
       "| 9deJ2qtKLvuqMc8ktWe9 | 3                    | 3                    |\n",
       "| aEiApHfpgZRT6wH5qBTu | 3                    | 3                    |\n",
       "| bEm4bVotxdvnkHEYzzi5 | 3                    | 3                    |\n",
       "| CGXxAdVrqubyUvVvjLHP | 3                    | 3                    |\n",
       "| EkyhvCQpfogVRdxisVhh | 3                    | 3                    |\n",
       "| G5GbEAE7kabhS3jAzlXa | 3                    | 3                    |\n",
       "| Geh7YCJgogwkQEr2DV4k | 3                    | 3                    |\n",
       "| hYt8RzR12FUutgCgq7Ou | 3                    | 3                    |\n",
       "| jQ2fEW8ELtGUcBqGY7YI | 3                    | 3                    |\n",
       "| lqKChKGGMFNaGvLCZhva | 3                    | 3                    |\n",
       "| og7wp8U4vBYG9qzI5h8C | 3                    | 3                    |\n",
       "| ojX5Z7on5WrrxvLJMqmq | 3                    | 3                    |\n",
       "| PGoFJfv5DkGCCwhe1tc9 | 3                    | 3                    |\n",
       "| TDU9VfCeqMZpsWliRv2j | 3                    | 3                    |\n",
       "| udhdb5vpndQsjGcygZec | 3                    | 3                    |\n",
       "| ZWH1by2chTTjxC5xBonl | 3                    | 3                    |\n",
       "\n"
      ],
      "text/plain": [
       "   participantId        n_tests n_of_conditions\n",
       "1  1N8UzywCgZLplZWpjmhN 3       3              \n",
       "2  2BYHrlcS9UljeLxeZvh5 3       3              \n",
       "3  2k6c3UE1moGMXX5sANSS 3       3              \n",
       "4  42Qb5LyAPE3NXNdu3AAl 3       3              \n",
       "5  9deJ2qtKLvuqMc8ktWe9 3       3              \n",
       "6  aEiApHfpgZRT6wH5qBTu 3       3              \n",
       "7  bEm4bVotxdvnkHEYzzi5 3       3              \n",
       "8  CGXxAdVrqubyUvVvjLHP 3       3              \n",
       "9  EkyhvCQpfogVRdxisVhh 3       3              \n",
       "10 G5GbEAE7kabhS3jAzlXa 3       3              \n",
       "11 Geh7YCJgogwkQEr2DV4k 3       3              \n",
       "12 hYt8RzR12FUutgCgq7Ou 3       3              \n",
       "13 jQ2fEW8ELtGUcBqGY7YI 3       3              \n",
       "14 lqKChKGGMFNaGvLCZhva 3       3              \n",
       "15 og7wp8U4vBYG9qzI5h8C 3       3              \n",
       "16 ojX5Z7on5WrrxvLJMqmq 3       3              \n",
       "17 PGoFJfv5DkGCCwhe1tc9 3       3              \n",
       "18 TDU9VfCeqMZpsWliRv2j 3       3              \n",
       "19 udhdb5vpndQsjGcygZec 3       3              \n",
       "20 ZWH1by2chTTjxC5xBonl 3       3              "
      ]
     },
     "metadata": {},
     "output_type": "display_data"
    }
   ],
   "source": [
    "tests %>% group_by(participantId) %>% summarise(n_tests = n_distinct(testId), n_of_conditions = n_distinct(condition))"
   ]
  },
  {
   "cell_type": "markdown",
   "metadata": {},
   "source": [
    "# Exploring metrics data frame (per phrase)"
   ]
  },
  {
   "cell_type": "markdown",
   "metadata": {},
   "source": [
    "#### Number of recorded phrases"
   ]
  },
  {
   "cell_type": "code",
   "execution_count": 83,
   "metadata": {},
   "outputs": [
    {
     "data": {
      "text/html": [
       "<table>\n",
       "<thead><tr><th scope=col>n</th></tr></thead>\n",
       "<tbody>\n",
       "\t<tr><td>715</td></tr>\n",
       "</tbody>\n",
       "</table>\n"
      ],
      "text/latex": [
       "\\begin{tabular}{r|l}\n",
       " n\\\\\n",
       "\\hline\n",
       "\t 715\\\\\n",
       "\\end{tabular}\n"
      ],
      "text/markdown": [
       "\n",
       "| n |\n",
       "|---|\n",
       "| 715 |\n",
       "\n"
      ],
      "text/plain": [
       "  n  \n",
       "1 715"
      ]
     },
     "metadata": {},
     "output_type": "display_data"
    }
   ],
   "source": [
    "metrics %>% tally()"
   ]
  },
  {
   "cell_type": "markdown",
   "metadata": {},
   "source": [
    "##### Number of participants"
   ]
  },
  {
   "cell_type": "code",
   "execution_count": 84,
   "metadata": {},
   "outputs": [
    {
     "data": {
      "text/html": [
       "<table>\n",
       "<thead><tr><th scope=col>n</th></tr></thead>\n",
       "<tbody>\n",
       "\t<tr><td>20</td></tr>\n",
       "</tbody>\n",
       "</table>\n"
      ],
      "text/latex": [
       "\\begin{tabular}{r|l}\n",
       " n\\\\\n",
       "\\hline\n",
       "\t 20\\\\\n",
       "\\end{tabular}\n"
      ],
      "text/markdown": [
       "\n",
       "| n |\n",
       "|---|\n",
       "| 20 |\n",
       "\n"
      ],
      "text/plain": [
       "  n \n",
       "1 20"
      ]
     },
     "metadata": {},
     "output_type": "display_data"
    }
   ],
   "source": [
    "metrics %>% distinct(SESSION) %>% tally()"
   ]
  },
  {
   "cell_type": "markdown",
   "metadata": {},
   "source": [
    "##### Number of tests"
   ]
  },
  {
   "cell_type": "code",
   "execution_count": 85,
   "metadata": {},
   "outputs": [
    {
     "data": {
      "text/html": [
       "<table>\n",
       "<thead><tr><th scope=col>n</th></tr></thead>\n",
       "<tbody>\n",
       "\t<tr><td>60</td></tr>\n",
       "</tbody>\n",
       "</table>\n"
      ],
      "text/latex": [
       "\\begin{tabular}{r|l}\n",
       " n\\\\\n",
       "\\hline\n",
       "\t 60\\\\\n",
       "\\end{tabular}\n"
      ],
      "text/markdown": [
       "\n",
       "| n |\n",
       "|---|\n",
       "| 60 |\n",
       "\n"
      ],
      "text/plain": [
       "  n \n",
       "1 60"
      ]
     },
     "metadata": {},
     "output_type": "display_data"
    }
   ],
   "source": [
    "metrics %>% distinct(ID) %>% tally()"
   ]
  },
  {
   "cell_type": "markdown",
   "metadata": {},
   "source": [
    "#####  Number of participants per Conditions"
   ]
  },
  {
   "cell_type": "code",
   "execution_count": 86,
   "metadata": {},
   "outputs": [
    {
     "data": {
      "text/html": [
       "<table>\n",
       "<thead><tr><th scope=col>CONDITION</th><th scope=col>number_of_participants</th></tr></thead>\n",
       "<tbody>\n",
       "\t<tr><td>enhanced</td><td>20      </td></tr>\n",
       "\t<tr><td>normal  </td><td>20      </td></tr>\n",
       "\t<tr><td>off     </td><td>20      </td></tr>\n",
       "</tbody>\n",
       "</table>\n"
      ],
      "text/latex": [
       "\\begin{tabular}{r|ll}\n",
       " CONDITION & number\\_of\\_participants\\\\\n",
       "\\hline\n",
       "\t enhanced & 20      \\\\\n",
       "\t normal   & 20      \\\\\n",
       "\t off      & 20      \\\\\n",
       "\\end{tabular}\n"
      ],
      "text/markdown": [
       "\n",
       "| CONDITION | number_of_participants |\n",
       "|---|---|\n",
       "| enhanced | 20       |\n",
       "| normal   | 20       |\n",
       "| off      | 20       |\n",
       "\n"
      ],
      "text/plain": [
       "  CONDITION number_of_participants\n",
       "1 enhanced  20                    \n",
       "2 normal    20                    \n",
       "3 off       20                    "
      ]
     },
     "metadata": {},
     "output_type": "display_data"
    }
   ],
   "source": [
    "metrics %>% group_by(CONDITION) %>% summarise(number_of_participants = n_distinct(SESSION))"
   ]
  },
  {
   "cell_type": "markdown",
   "metadata": {},
   "source": [
    "# Preparing the data frames"
   ]
  },
  {
   "cell_type": "markdown",
   "metadata": {},
   "source": [
    "### Adding the date to metrics data frame"
   ]
  },
  {
   "cell_type": "code",
   "execution_count": 87,
   "metadata": {},
   "outputs": [
    {
     "name": "stdout",
     "output_type": "stream",
     "text": [
      "Rows: 715\n",
      "Columns: 29\n",
      "$ BACKSPACE_COUNT          <dbl> 0, 3, 0, 0, 0, 2, 0, 0, 0, 2, 0, 0, 0, 1, 0, ~\n",
      "$ CAC                      <dbl> 0, 5, 0, 0, 0, 2, 0, 0, 0, 2, 0, 0, 0, 1, 0, ~\n",
      "$ CAR                      <dbl> 0.000000, 12.820513, 0.000000, 0.000000, 0.00~\n",
      "$ CAT_R                    <dbl> 0.000000, 78.966354, 0.000000, 0.000000, 0.00~\n",
      "$ CCC                      <dbl> 0, 2, 0, 0, 0, 0, 0, 0, 0, 0, 0, 0, 0, 0, 0, ~\n",
      "$ CONDITION                <fct> off, off, off, off, off, off, off, off, off, ~\n",
      "$ CORRECTED_ERROR_RATE     <dbl> 0.000000, 8.823529, 0.000000, 0.000000, 0.000~\n",
      "$ CPS                      <dbl> 7.842205, 1.967600, 11.331445, 8.717762, 6.07~\n",
      "$ ERROR_RATE               <dbl> 0.000000, 0.000000, 0.000000, 0.000000, 0.000~\n",
      "$ TEST_ID                  <fct> 2xLmSHgHeUSCsObsz9Vr, 2xLmSHgHeUSCsObsz9Vr, 2~\n",
      "$ INPUT_TIME               <dbl> 4.208, 15.247, 2.471, 2.753, 5.100, 4.935, 2.~\n",
      "$ IS_LENGTH                <dbl> 37, 39, 29, 25, 32, 31, 24, 27, 29, 27, 30, 2~\n",
      "$ KEYSTROKES_PER_CHARACTER <dbl> 1.088235, 1.258065, 1.000000, 1.000000, 1.000~\n",
      "$ LEVENSHTEIN_DELETION     <dbl> 0, 0, 0, 0, 0, 0, 0, 1, 0, 0, 0, 0, 0, 0, 0, ~\n",
      "$ LEVENSHTEIN_INSERTION    <dbl> 0, 0, 0, 0, 0, 0, 0, 1, 0, 0, 0, 0, 0, 0, 0, ~\n",
      "$ LEVENSHTEIN_SUBSTITUTION <dbl> 0, 0, 0, 0, 0, 0, 0, 0, 0, 0, 0, 0, 0, 0, 0, ~\n",
      "$ MINIMUM_STRING_DISTANCE  <dbl> 0.000000, 0.000000, 0.000000, 0.000000, 0.000~\n",
      "$ PHRASE_NUMBER            <dbl> 2, 1, 4, 5, 3, 8, 9, 7, 6, 11, 12, 10, 2, 3, ~\n",
      "$ PT                       <chr> \"staying up all night is a bad idea\", \"your p~\n",
      "$ PT_LENGTH                <dbl> 34, 31, 29, 25, 32, 27, 24, 27, 29, 23, 30, 2~\n",
      "$ PARTICIPANT_ID           <fct> 2k6c3UE1moGMXX5sANSS, 2k6c3UE1moGMXX5sANSS, 2~\n",
      "$ TOTAL_ERROR_RATE         <dbl> 0.000000, 8.823529, 0.000000, 0.000000, 0.000~\n",
      "$ TOTAL_PHRASES            <dbl> 12, 12, 12, 12, 12, 12, 12, 12, 12, 12, 12, 1~\n",
      "$ TT                       <chr> \"staying up all night is a bad idea\", \"your p~\n",
      "$ TT_LENGTH                <dbl> 34, 31, 29, 25, 32, 27, 24, 27, 29, 23, 30, 2~\n",
      "$ T_CAT                    <dbl> 0.000, 12.040, 0.000, 0.000, 0.000, 0.655, 0.~\n",
      "$ VST                      <dbl> 169, 2145, 186, 105, 193, 101, 106, 174, 270,~\n",
      "$ WPM                      <dbl> 94.10646, 23.61120, 135.97734, 104.61315, 72.~\n",
      "$ DATE                     <dttm> 2022-02-09 09:54:39, 2022-02-09 09:54:39, 20~\n"
     ]
    }
   ],
   "source": [
    "valid_metrics <- metrics %>% \n",
    "inner_join(tests, by = c(\"ID\" = \"testId\")) %>%\n",
    "select(-c(condition, updatedAt, participantId)) %>%\n",
    "rename(\n",
    "    DATE = createdAt,\n",
    "    PARTICIPANT_ID = SESSION,\n",
    "    TEST_ID = ID\n",
    ")\n",
    "\n",
    "# String variables to Factors\n",
    "valid_metrics$PARTICIPANT_ID <- as.factor(valid_metrics$PARTICIPANT_ID)\n",
    "valid_metrics$TEST_ID <- as.factor(valid_metrics$TEST_ID)\n",
    "valid_metrics$CONDITION <- as.factor(valid_metrics$CONDITION)\n",
    "valid_metrics$PARTICIPANT_ID <- as.factor(valid_metrics$PARTICIPANT_ID)\n",
    "\n",
    "glimpse(valid_metrics)"
   ]
  },
  {
   "cell_type": "markdown",
   "metadata": {},
   "source": [
    "### Ignoring the 12th phrase from data set"
   ]
  },
  {
   "cell_type": "code",
   "execution_count": 88,
   "metadata": {},
   "outputs": [],
   "source": [
    "# removing the phrase number 12 from all metrics\n",
    "valid_metrics <- valid_metrics %>% filter(PHRASE_NUMBER != 12)"
   ]
  },
  {
   "cell_type": "code",
   "execution_count": 89,
   "metadata": {},
   "outputs": [
    {
     "data": {
      "text/html": [
       "<table>\n",
       "<thead><tr><th scope=col>PHRASE_NUMBER</th><th scope=col>n</th></tr></thead>\n",
       "<tbody>\n",
       "\t<tr><td> 1</td><td>60</td></tr>\n",
       "\t<tr><td> 2</td><td>60</td></tr>\n",
       "\t<tr><td> 3</td><td>60</td></tr>\n",
       "\t<tr><td> 4</td><td>60</td></tr>\n",
       "\t<tr><td> 5</td><td>60</td></tr>\n",
       "\t<tr><td> 6</td><td>60</td></tr>\n",
       "\t<tr><td> 7</td><td>60</td></tr>\n",
       "\t<tr><td> 8</td><td>60</td></tr>\n",
       "\t<tr><td> 9</td><td>60</td></tr>\n",
       "\t<tr><td>10</td><td>60</td></tr>\n",
       "\t<tr><td>11</td><td>60</td></tr>\n",
       "</tbody>\n",
       "</table>\n"
      ],
      "text/latex": [
       "\\begin{tabular}{r|ll}\n",
       " PHRASE\\_NUMBER & n\\\\\n",
       "\\hline\n",
       "\t  1 & 60\\\\\n",
       "\t  2 & 60\\\\\n",
       "\t  3 & 60\\\\\n",
       "\t  4 & 60\\\\\n",
       "\t  5 & 60\\\\\n",
       "\t  6 & 60\\\\\n",
       "\t  7 & 60\\\\\n",
       "\t  8 & 60\\\\\n",
       "\t  9 & 60\\\\\n",
       "\t 10 & 60\\\\\n",
       "\t 11 & 60\\\\\n",
       "\\end{tabular}\n"
      ],
      "text/markdown": [
       "\n",
       "| PHRASE_NUMBER | n |\n",
       "|---|---|\n",
       "|  1 | 60 |\n",
       "|  2 | 60 |\n",
       "|  3 | 60 |\n",
       "|  4 | 60 |\n",
       "|  5 | 60 |\n",
       "|  6 | 60 |\n",
       "|  7 | 60 |\n",
       "|  8 | 60 |\n",
       "|  9 | 60 |\n",
       "| 10 | 60 |\n",
       "| 11 | 60 |\n",
       "\n"
      ],
      "text/plain": [
       "   PHRASE_NUMBER n \n",
       "1   1            60\n",
       "2   2            60\n",
       "3   3            60\n",
       "4   4            60\n",
       "5   5            60\n",
       "6   6            60\n",
       "7   7            60\n",
       "8   8            60\n",
       "9   9            60\n",
       "10 10            60\n",
       "11 11            60"
      ]
     },
     "metadata": {},
     "output_type": "display_data"
    }
   ],
   "source": [
    "valid_metrics %>% \n",
    "group_by(PHRASE_NUMBER) %>% \n",
    "tally()"
   ]
  },
  {
   "cell_type": "markdown",
   "metadata": {},
   "source": [
    "# Merging Data and Calculating the Avrages"
   ]
  },
  {
   "cell_type": "code",
   "execution_count": 90,
   "metadata": {},
   "outputs": [
    {
     "name": "stdout",
     "output_type": "stream",
     "text": [
      "Rows: 660\n",
      "Columns: 29\n",
      "$ BACKSPACE_COUNT          <dbl> 0, 3, 0, 0, 0, 2, 0, 0, 0, 2, 0, 0, 1, 0, 0, ~\n",
      "$ CAC                      <dbl> 0, 5, 0, 0, 0, 2, 0, 0, 0, 2, 0, 0, 1, 0, 0, ~\n",
      "$ CAR                      <dbl> 0.000000, 12.820513, 0.000000, 0.000000, 0.00~\n",
      "$ CAT_R                    <dbl> 0.000000, 78.966354, 0.000000, 0.000000, 0.00~\n",
      "$ CCC                      <dbl> 0, 2, 0, 0, 0, 0, 0, 0, 0, 0, 0, 0, 0, 0, 0, ~\n",
      "$ CONDITION                <fct> off, off, off, off, off, off, off, off, off, ~\n",
      "$ CORRECTED_ERROR_RATE     <dbl> 0.000000, 8.823529, 0.000000, 0.000000, 0.000~\n",
      "$ CPS                      <dbl> 7.842205, 1.967600, 11.331445, 8.717762, 6.07~\n",
      "$ ERROR_RATE               <dbl> 0.000000, 0.000000, 0.000000, 0.000000, 0.000~\n",
      "$ TEST_ID                  <fct> 2xLmSHgHeUSCsObsz9Vr, 2xLmSHgHeUSCsObsz9Vr, 2~\n",
      "$ INPUT_TIME               <dbl> 4.208, 15.247, 2.471, 2.753, 5.100, 4.935, 2.~\n",
      "$ IS_LENGTH                <dbl> 37, 39, 29, 25, 32, 31, 24, 27, 29, 27, 27, 1~\n",
      "$ KEYSTROKES_PER_CHARACTER <dbl> 1.088235, 1.258065, 1.000000, 1.000000, 1.000~\n",
      "$ LEVENSHTEIN_DELETION     <dbl> 0, 0, 0, 0, 0, 0, 0, 1, 0, 0, 0, 0, 0, 0, 0, ~\n",
      "$ LEVENSHTEIN_INSERTION    <dbl> 0, 0, 0, 0, 0, 0, 0, 1, 0, 0, 0, 0, 0, 0, 4, ~\n",
      "$ LEVENSHTEIN_SUBSTITUTION <dbl> 0, 0, 0, 0, 0, 0, 0, 0, 0, 0, 0, 0, 0, 0, 0, ~\n",
      "$ MINIMUM_STRING_DISTANCE  <dbl> 0.000000, 0.000000, 0.000000, 0.000000, 0.000~\n",
      "$ PHRASE_NUMBER            <dbl> 2, 1, 4, 5, 3, 8, 9, 7, 6, 11, 10, 2, 3, 4, 1~\n",
      "$ PT                       <chr> \"staying up all night is a bad idea\", \"your p~\n",
      "$ PT_LENGTH                <dbl> 34, 31, 29, 25, 32, 27, 24, 27, 29, 23, 27, 1~\n",
      "$ PARTICIPANT_ID           <fct> 2k6c3UE1moGMXX5sANSS, 2k6c3UE1moGMXX5sANSS, 2~\n",
      "$ TOTAL_ERROR_RATE         <dbl> 0.000000, 8.823529, 0.000000, 0.000000, 0.000~\n",
      "$ TOTAL_PHRASES            <dbl> 12, 12, 12, 12, 12, 12, 12, 12, 12, 12, 12, 1~\n",
      "$ TT                       <chr> \"staying up all night is a bad idea\", \"your p~\n",
      "$ TT_LENGTH                <dbl> 34, 31, 29, 25, 32, 27, 24, 27, 29, 23, 27, 1~\n",
      "$ T_CAT                    <dbl> 0.000, 12.040, 0.000, 0.000, 0.000, 0.655, 0.~\n",
      "$ VST                      <dbl> 169, 2145, 186, 105, 193, 101, 106, 174, 270,~\n",
      "$ WPM                      <dbl> 94.10646, 23.61120, 135.97734, 104.61315, 72.~\n",
      "$ DATE                     <dttm> 2022-02-09 09:54:39, 2022-02-09 09:54:39, 20~\n"
     ]
    }
   ],
   "source": [
    "glimpse(valid_metrics)"
   ]
  },
  {
   "cell_type": "code",
   "execution_count": 91,
   "metadata": {},
   "outputs": [
    {
     "name": "stdout",
     "output_type": "stream",
     "text": [
      "Rows: 20\n",
      "Columns: 15\n",
      "$ age                 <dbl> 24, 24, 23, 23, 24, 24, 22, 21, 27, 21, 21, 21, 23~\n",
      "$ avrageDailyTyping   <dbl> 2, 2, 2, 8, 5, 5, 3, 5, 3, 1, 2, 1, 4, 2, 1, 1, 10~\n",
      "$ createdAt           <dttm> 2022-02-09 09:54:32, 2022-02-09 10:01:51, 2022-02~\n",
      "$ englishUse          <chr> \"usually\", \"sometimes\", \"sometimes\", \"usually\", \"u~\n",
      "$ gender              <chr> \"m\", \"m\", \"m\", \"m\", \"m\", \"m\", \"m\", \"w\", \"w\", \"m\", ~\n",
      "$ isTypist            <lgl> TRUE, FALSE, FALSE, TRUE, FALSE, FALSE, FALSE, FAL~\n",
      "$ keyboardLayout      <chr> \"qwerty\", \"qwertz\", \"qwertz\", \"qwertz\", \"qwertz\", ~\n",
      "$ keyboardProfile     <chr> \"high\", \"low\", \"high\", \"low\", \"low\", \"high\", \"low\"~\n",
      "$ matriculationNumber <chr> \"2k6c3UE1moGMXX5sANSS\", \"ZWH1by2chTTjxC5xBonl\", \"o~\n",
      "$ nativeLanguage      <chr> \"german\", \"german\", \"german\", \"german\", \"german\", ~\n",
      "$ participantId       <chr> \"2k6c3UE1moGMXX5sANSS\", \"ZWH1by2chTTjxC5xBonl\", \"o~\n",
      "$ touchTypingCourse   <lgl> FALSE, FALSE, FALSE, TRUE, FALSE, TRUE, FALSE, FAL~\n",
      "$ updatedAt           <dttm> 2022-02-09 09:54:32, 2022-02-09 10:01:51, 2022-02~\n",
      "$ usedFingers         <dbl> 10, 6, 4, 10, 8, 7, 6, 7, 6, 8, 10, 4, 4, 5, 10, 1~\n",
      "$ usedHand            <chr> \"both\", \"both\", \"both\", \"both\", \"both\", \"both\", \"b~\n"
     ]
    }
   ],
   "source": [
    "glimpse(participants)"
   ]
  },
  {
   "cell_type": "code",
   "execution_count": 92,
   "metadata": {},
   "outputs": [
    {
     "name": "stdout",
     "output_type": "stream",
     "text": [
      "Rows: 60\n",
      "Columns: 5\n",
      "$ condition     <chr> \"off\", \"normal\", \"enhanced\", \"off\", \"normal\", \"enhanced\"~\n",
      "$ createdAt     <dttm> 2022-02-09 09:54:39, 2022-02-09 09:56:11, 2022-02-09 09~\n",
      "$ participantId <chr> \"2k6c3UE1moGMXX5sANSS\", \"2k6c3UE1moGMXX5sANSS\", \"2k6c3UE~\n",
      "$ testId        <chr> \"2xLmSHgHeUSCsObsz9Vr\", \"kqMna9qVOShlqvQ9xYsO\", \"oRp2fs4~\n",
      "$ updatedAt     <dttm> 2022-02-09 09:54:39, 2022-02-09 09:56:11, 2022-02-09 09~\n"
     ]
    }
   ],
   "source": [
    "glimpse(tests)"
   ]
  },
  {
   "cell_type": "markdown",
   "metadata": {},
   "source": [
    "### Valid Participants data frame"
   ]
  },
  {
   "cell_type": "code",
   "execution_count": 93,
   "metadata": {},
   "outputs": [],
   "source": [
    "valid_participants <- participants %>% filter(participantId %in% valid_metrics$PARTICIPANT_ID) %>% select(-c(updatedAt, createdAt, matriculationNumber))\n",
    "\n",
    "# calc avg metrics per test:\n",
    "valid_participants <- valid_metrics %>%\n",
    "group_by(PARTICIPANT_ID) %>%\n",
    "summarise(\n",
    "    NUMBER_OF_PHRASES = n(),\n",
    "    AVG_PT_LENGTH = mean(PT_LENGTH),\n",
    "    AVG_TT_LENGTH = mean(TT_LENGTH),\n",
    "    AVG_WPM = mean(WPM),\n",
    "    AVG_CPS = mean(CPS),\n",
    "    AVG_KSPC = mean(KEYSTROKES_PER_CHARACTER),\n",
    "    AVG_ER = mean(ERROR_RATE),\n",
    "    AVG_C_ER = mean(CORRECTED_ERROR_RATE),\n",
    "    AVG_T_ER = mean(TOTAL_ERROR_RATE),\n",
    "    AVG_BC = mean(BACKSPACE_COUNT),\n",
    "    AVG_INPUT_TIME = mean(INPUT_TIME),\n",
    "    AVG_VST = mean(VST)\n",
    ") %>%\n",
    "as.data.frame() %>%\n",
    "inner_join(valid_participants, by = c(\"PARTICIPANT_ID\" = \"participantId\")) \n",
    "\n",
    "# renaming col\n",
    "valid_participants <- valid_participants %>%\n",
    "rename(\n",
    "    AGE = age,\n",
    "    AVG_DAILY_TYPING = avrageDailyTyping,\n",
    "    ENGLISH_USE = englishUse,\n",
    "    GENDER = gender,\n",
    "    IS_TYPIST = isTypist,\n",
    "    KEYBOARD_LAYOUT = keyboardLayout,\n",
    "    KEYBOARD_PROFILE = keyboardProfile,\n",
    "    NATIVE_LANGUAGE = nativeLanguage,\n",
    "    TOUCH_TYPING_COURSE = touchTypingCourse,\n",
    "    USED_FINGERS = usedFingers,\n",
    "    USED_HAND = usedHand\n",
    ")\n",
    "\n",
    "# #chars variables to factors\n",
    "valid_participants <- as.data.frame(unclass(valid_participants),stringsAsFactors = TRUE)\n"
   ]
  },
  {
   "cell_type": "markdown",
   "metadata": {},
   "source": [
    "###  Valid test data frame"
   ]
  },
  {
   "cell_type": "code",
   "execution_count": 94,
   "metadata": {},
   "outputs": [
    {
     "name": "stdout",
     "output_type": "stream",
     "text": [
      "Rows: 60\n",
      "Columns: 27\n",
      "$ TEST_ID             <fct> 2Lc3KoNUrxzeFswSJ5Rf, 2xLmSHgHeUSCsObsz9Vr, 3fZGwP~\n",
      "$ NUMBER_OF_PHRASES   <int> 11, 11, 11, 11, 11, 11, 11, 11, 11, 11, 11, 11, 11~\n",
      "$ AVG_PT_LENGTH       <dbl> 30.45455, 28.00000, 29.90909, 29.63636, 26.00000, ~\n",
      "$ AVG_TT_LENGTH       <dbl> 30.54545, 28.00000, 30.09091, 29.81818, 25.63636, ~\n",
      "$ AVG_WPM             <dbl> 44.96361, 90.58570, 65.50282, 38.60167, 69.05079, ~\n",
      "$ AVG_CPS             <dbl> 3.746967, 7.548808, 5.458568, 3.216806, 5.754233, ~\n",
      "$ AVG_KSPC            <dbl> 1.132736, 1.060760, 1.243917, 1.229981, 1.152858, ~\n",
      "$ AVG_ER              <dbl> 0.2840909, 0.6734007, 1.4779469, 5.4002693, 2.1461~\n",
      "$ AVG_C_ER            <dbl> 4.9995081, 2.1563710, 9.8352119, 8.5616894, 5.3617~\n",
      "$ AVG_T_ER            <dbl> 5.2749902, 2.8297717, 11.1470141, 13.3626985, 7.29~\n",
      "$ AVG_BC              <dbl> 1.72727273, 0.63636364, 3.54545455, 3.09090909, 1.~\n",
      "$ AVG_INPUT_TIME      <dbl> 8.828091, 4.560091, 5.985455, 9.630364, 4.585636, ~\n",
      "$ AVG_VST             <dbl> 1054.8182, 349.1818, 332.4545, 447.4545, 182.3636,~\n",
      "$ CONDITION           <fct> normal, off, enhanced, enhanced, enhanced, off, no~\n",
      "$ PARTICIPANT_ID      <fct> lqKChKGGMFNaGvLCZhva, 2k6c3UE1moGMXX5sANSS, 42Qb5L~\n",
      "$ AGE                 <dbl> 25, 24, 21, 21, 23, 24, 21, 24, 28, 21, 25, 22, 23~\n",
      "$ AVG_DAILY_TYPING    <dbl> 2, 2, 2, 1, 4, 2, 1, 5, 10, 1, 2, 3, 4, 5, 1, 2, 1~\n",
      "$ DATE                <dttm> 2022-02-09 13:18:56, 2022-02-09 09:54:32, 2022-02~\n",
      "$ ENGLISH_USE         <fct> rarely, usually, always, sometimes, sometimes, som~\n",
      "$ GENDER              <fct> m, m, m, w, w, m, m, m, m, w, m, m, w, m, m, m, m,~\n",
      "$ IS_TYPIST           <lgl> FALSE, TRUE, TRUE, FALSE, FALSE, FALSE, FALSE, FAL~\n",
      "$ KEYBOARD_LAYOUT     <fct> qwertz, qwerty, qwerty, qwertz, qwertz, qwertz, qw~\n",
      "$ KEYBOARD_PROFILE    <fct> low, high, high, low, low, low, low, high, low, lo~\n",
      "$ NATIVE_LANGUAGE     <fct> \"albanian\", \"german\", \"german\", \"german\", \"vietnam~\n",
      "$ TOUCH_TYPING_COURSE <lgl> FALSE, FALSE, TRUE, FALSE, FALSE, FALSE, FALSE, TR~\n",
      "$ USED_FINGERS        <dbl> 8, 10, 10, 4, 4, 6, 8, 7, 7, 4, 8, 6, 4, 8, 10, 6,~\n",
      "$ USED_HAND           <fct> both, both, both, both, both, both, both, both, bo~\n"
     ]
    }
   ],
   "source": [
    "# mergin the tests data frame with the aggregated metrics data frame\n",
    "\n",
    "valid_tests <- tests %>% filter(testId %in% valid_metrics$TEST_ID) %>% select(-c(createdAt, updatedAt))\n",
    "\n",
    "\n",
    "# calc avg metrics per test:\n",
    "valid_tests <- valid_metrics %>%\n",
    "group_by(TEST_ID) %>%\n",
    "summarise(\n",
    "    NUMBER_OF_PHRASES = n(),\n",
    "    AVG_PT_LENGTH = mean(PT_LENGTH),\n",
    "    AVG_TT_LENGTH = mean(TT_LENGTH),\n",
    "    AVG_WPM = mean(WPM),\n",
    "    AVG_CPS = mean(CPS),\n",
    "    AVG_KSPC = mean(KEYSTROKES_PER_CHARACTER),\n",
    "    AVG_ER = mean(ERROR_RATE),\n",
    "    AVG_C_ER = mean(CORRECTED_ERROR_RATE),\n",
    "    AVG_T_ER = mean(TOTAL_ERROR_RATE),\n",
    "    AVG_BC = mean(BACKSPACE_COUNT),\n",
    "    AVG_INPUT_TIME = mean(INPUT_TIME),\n",
    "    AVG_VST = mean(VST)\n",
    ") %>%\n",
    "as.data.frame() %>%\n",
    "inner_join(valid_tests, by = c(\"TEST_ID\" = \"testId\")) %>%\n",
    "inner_join(participants, by = \"participantId\") \n",
    "\n",
    "valid_tests$updatedAt <- NULL\n",
    "valid_tests$matriculationNumber <- NULL\n",
    "\n",
    "# renaming col\n",
    "valid_tests <- valid_tests %>%\n",
    "rename(\n",
    "    PARTICIPANT_ID = participantId,\n",
    "    CONDITION = condition,\n",
    "    DATE = createdAt,\n",
    "    AGE = age,\n",
    "    AVG_DAILY_TYPING = avrageDailyTyping,\n",
    "    ENGLISH_USE = englishUse,\n",
    "    GENDER = gender,\n",
    "    IS_TYPIST = isTypist,\n",
    "    KEYBOARD_LAYOUT = keyboardLayout,\n",
    "    KEYBOARD_PROFILE = keyboardProfile,\n",
    "    NATIVE_LANGUAGE = nativeLanguage,\n",
    "    TOUCH_TYPING_COURSE = touchTypingCourse,\n",
    "    USED_FINGERS = usedFingers,\n",
    "    USED_HAND = usedHand\n",
    ")\n",
    "\n",
    "# chars variables to factors\n",
    "valid_tests <- as.data.frame(unclass(valid_tests),stringsAsFactors = TRUE)\n",
    "\n",
    "glimpse(valid_tests)"
   ]
  },
  {
   "cell_type": "markdown",
   "metadata": {},
   "source": [
    "### Grouping participants into two Groups (Experienced or Not) based on the middle WPM in the off condition"
   ]
  },
  {
   "cell_type": "code",
   "execution_count": 95,
   "metadata": {},
   "outputs": [
    {
     "data": {
      "text/html": [
       "<table>\n",
       "<thead><tr><th scope=col>CONDITION</th><th scope=col>MIDDLE_WPM</th></tr></thead>\n",
       "<tbody>\n",
       "\t<tr><td>enhanced</td><td>39.17153</td></tr>\n",
       "\t<tr><td>normal  </td><td>41.92437</td></tr>\n",
       "\t<tr><td>off     </td><td>49.44537</td></tr>\n",
       "</tbody>\n",
       "</table>\n"
      ],
      "text/latex": [
       "\\begin{tabular}{r|ll}\n",
       " CONDITION & MIDDLE\\_WPM\\\\\n",
       "\\hline\n",
       "\t enhanced & 39.17153\\\\\n",
       "\t normal   & 41.92437\\\\\n",
       "\t off      & 49.44537\\\\\n",
       "\\end{tabular}\n"
      ],
      "text/markdown": [
       "\n",
       "| CONDITION | MIDDLE_WPM |\n",
       "|---|---|\n",
       "| enhanced | 39.17153 |\n",
       "| normal   | 41.92437 |\n",
       "| off      | 49.44537 |\n",
       "\n"
      ],
      "text/plain": [
       "  CONDITION MIDDLE_WPM\n",
       "1 enhanced  39.17153  \n",
       "2 normal    41.92437  \n",
       "3 off       49.44537  "
      ]
     },
     "metadata": {},
     "output_type": "display_data"
    }
   ],
   "source": [
    "wpm_by_condition <- valid_tests %>% \n",
    "group_by(CONDITION) %>% \n",
    "summarise(MIDDLE_WPM = median(AVG_WPM))\n",
    "\n",
    "wpm_by_condition"
   ]
  },
  {
   "cell_type": "code",
   "execution_count": 96,
   "metadata": {},
   "outputs": [
    {
     "data": {
      "text/html": [
       "<table>\n",
       "<thead><tr><th scope=col>PARTICIPANT_ID</th></tr></thead>\n",
       "<tbody>\n",
       "\t<tr><td>2k6c3UE1moGMXX5sANSS</td></tr>\n",
       "\t<tr><td>lqKChKGGMFNaGvLCZhva</td></tr>\n",
       "\t<tr><td>bEm4bVotxdvnkHEYzzi5</td></tr>\n",
       "\t<tr><td>Geh7YCJgogwkQEr2DV4k</td></tr>\n",
       "\t<tr><td>1N8UzywCgZLplZWpjmhN</td></tr>\n",
       "\t<tr><td>2BYHrlcS9UljeLxeZvh5</td></tr>\n",
       "\t<tr><td>42Qb5LyAPE3NXNdu3AAl</td></tr>\n",
       "\t<tr><td>PGoFJfv5DkGCCwhe1tc9</td></tr>\n",
       "\t<tr><td>og7wp8U4vBYG9qzI5h8C</td></tr>\n",
       "\t<tr><td>TDU9VfCeqMZpsWliRv2j</td></tr>\n",
       "</tbody>\n",
       "</table>\n"
      ],
      "text/latex": [
       "\\begin{tabular}{r|l}\n",
       " PARTICIPANT\\_ID\\\\\n",
       "\\hline\n",
       "\t 2k6c3UE1moGMXX5sANSS\\\\\n",
       "\t lqKChKGGMFNaGvLCZhva\\\\\n",
       "\t bEm4bVotxdvnkHEYzzi5\\\\\n",
       "\t Geh7YCJgogwkQEr2DV4k\\\\\n",
       "\t 1N8UzywCgZLplZWpjmhN\\\\\n",
       "\t 2BYHrlcS9UljeLxeZvh5\\\\\n",
       "\t 42Qb5LyAPE3NXNdu3AAl\\\\\n",
       "\t PGoFJfv5DkGCCwhe1tc9\\\\\n",
       "\t og7wp8U4vBYG9qzI5h8C\\\\\n",
       "\t TDU9VfCeqMZpsWliRv2j\\\\\n",
       "\\end{tabular}\n"
      ],
      "text/markdown": [
       "\n",
       "| PARTICIPANT_ID |\n",
       "|---|\n",
       "| 2k6c3UE1moGMXX5sANSS |\n",
       "| lqKChKGGMFNaGvLCZhva |\n",
       "| bEm4bVotxdvnkHEYzzi5 |\n",
       "| Geh7YCJgogwkQEr2DV4k |\n",
       "| 1N8UzywCgZLplZWpjmhN |\n",
       "| 2BYHrlcS9UljeLxeZvh5 |\n",
       "| 42Qb5LyAPE3NXNdu3AAl |\n",
       "| PGoFJfv5DkGCCwhe1tc9 |\n",
       "| og7wp8U4vBYG9qzI5h8C |\n",
       "| TDU9VfCeqMZpsWliRv2j |\n",
       "\n"
      ],
      "text/plain": [
       "   PARTICIPANT_ID      \n",
       "1  2k6c3UE1moGMXX5sANSS\n",
       "2  lqKChKGGMFNaGvLCZhva\n",
       "3  bEm4bVotxdvnkHEYzzi5\n",
       "4  Geh7YCJgogwkQEr2DV4k\n",
       "5  1N8UzywCgZLplZWpjmhN\n",
       "6  2BYHrlcS9UljeLxeZvh5\n",
       "7  42Qb5LyAPE3NXNdu3AAl\n",
       "8  PGoFJfv5DkGCCwhe1tc9\n",
       "9  og7wp8U4vBYG9qzI5h8C\n",
       "10 TDU9VfCeqMZpsWliRv2j"
      ]
     },
     "metadata": {},
     "output_type": "display_data"
    }
   ],
   "source": [
    "middle_wpm_off <- wpm_by_condition %>%\n",
    "filter( CONDITION == \"off\")\n",
    "\n",
    "# middle_wpm_off\n",
    "\n",
    "true_experienced <- valid_tests %>%\n",
    "filter( CONDITION == \"off\" & AVG_WPM > middle_wpm_off$MIDDLE_WPM) %>%\n",
    "select(PARTICIPANT_ID)\n",
    "true_experienced"
   ]
  },
  {
   "cell_type": "code",
   "execution_count": 97,
   "metadata": {},
   "outputs": [],
   "source": [
    "valid_participants$EXPERIENCED <- as.factor(ifelse(valid_participants$PARTICIPANT_ID %in% true_experienced$PARTICIPANT_ID, \"yes\", \"no\"))\n",
    "valid_tests$EXPERIENCED <- as.factor(ifelse(valid_tests$PARTICIPANT_ID %in% true_experienced$PARTICIPANT_ID, \"yes\", \"no\"))"
   ]
  },
  {
   "cell_type": "code",
   "execution_count": 98,
   "metadata": {},
   "outputs": [
    {
     "name": "stdout",
     "output_type": "stream",
     "text": [
      "Rows: 20\n",
      "Columns: 25\n",
      "$ PARTICIPANT_ID      <fct> 1N8UzywCgZLplZWpjmhN, 2BYHrlcS9UljeLxeZvh5, 2k6c3U~\n",
      "$ NUMBER_OF_PHRASES   <int> 33, 33, 33, 33, 33, 33, 33, 33, 33, 33, 33, 33, 33~\n",
      "$ AVG_PT_LENGTH       <dbl> 29.51515, 28.57576, 28.93939, 29.15152, 28.09091, ~\n",
      "$ AVG_TT_LENGTH       <dbl> 29.51515, 28.54545, 28.84848, 29.33333, 28.03030, ~\n",
      "$ AVG_WPM             <dbl> 41.81962, 48.05361, 81.86951, 61.18530, 36.67642, ~\n",
      "$ AVG_CPS             <dbl> 3.484969, 4.004467, 6.822459, 5.098775, 3.056368, ~\n",
      "$ AVG_KSPC            <dbl> 1.061858, 1.083106, 1.065553, 1.217266, 1.306227, ~\n",
      "$ AVG_ER              <dbl> 0.1886683, 1.7241221, 1.6446791, 1.7619891, 2.2438~\n",
      "$ AVG_C_ER            <dbl> 2.2742142, 3.2150367, 2.6924993, 8.9224739, 12.163~\n",
      "$ AVG_T_ER            <dbl> 2.444969, 4.799568, 4.301229, 10.567631, 14.110487~\n",
      "$ AVG_BC              <dbl> 0.8484848, 1.1515152, 0.8787879, 3.1515152, 4.1515~\n",
      "$ AVG_INPUT_TIME      <dbl> 9.866455, 7.655485, 4.810455, 6.467606, 9.206909, ~\n",
      "$ AVG_VST             <dbl> 937.6364, 293.2424, 360.9091, 272.0000, 257.9091, ~\n",
      "$ AGE                 <dbl> 25, 27, 24, 21, 24, 21, 22, 28, 21, 28, 23, 21, 25~\n",
      "$ AVG_DAILY_TYPING    <dbl> 1, 3, 2, 2, 5, 5, 3, 2, 6, 10, 4, 1, 1, 2, 2, 1, 1~\n",
      "$ ENGLISH_USE         <fct> usually, always, usually, always, usually, rarely,~\n",
      "$ GENDER              <fct> m, w, m, m, m, w, m, w, m, m, w, w, m, m, m, m, m,~\n",
      "$ IS_TYPIST           <lgl> FALSE, TRUE, TRUE, TRUE, FALSE, FALSE, FALSE, FALS~\n",
      "$ KEYBOARD_LAYOUT     <fct> qwertz, qwertz, qwerty, qwerty, qwertz, qwertz, qw~\n",
      "$ KEYBOARD_PROFILE    <fct> high, low, high, high, low, low, low, low, low, lo~\n",
      "$ NATIVE_LANGUAGE     <fct> \"german\", \"romanian, moldavian, moldovan\", \"german~\n",
      "$ TOUCH_TYPING_COURSE <lgl> FALSE, FALSE, FALSE, TRUE, FALSE, FALSE, FALSE, FA~\n",
      "$ USED_FINGERS        <dbl> 10, 6, 10, 10, 8, 7, 6, 5, 4, 7, 4, 4, 4, 8, 4, 8,~\n",
      "$ USED_HAND           <fct> both, both, both, both, both, both, both, right, b~\n",
      "$ EXPERIENCED         <fct> yes, yes, yes, yes, no, no, yes, no, no, no, yes, ~\n"
     ]
    }
   ],
   "source": [
    "glimpse(valid_participants)"
   ]
  },
  {
   "cell_type": "code",
   "execution_count": 99,
   "metadata": {},
   "outputs": [
    {
     "name": "stdout",
     "output_type": "stream",
     "text": [
      "Rows: 60\n",
      "Columns: 28\n",
      "$ TEST_ID             <fct> 2Lc3KoNUrxzeFswSJ5Rf, 2xLmSHgHeUSCsObsz9Vr, 3fZGwP~\n",
      "$ NUMBER_OF_PHRASES   <int> 11, 11, 11, 11, 11, 11, 11, 11, 11, 11, 11, 11, 11~\n",
      "$ AVG_PT_LENGTH       <dbl> 30.45455, 28.00000, 29.90909, 29.63636, 26.00000, ~\n",
      "$ AVG_TT_LENGTH       <dbl> 30.54545, 28.00000, 30.09091, 29.81818, 25.63636, ~\n",
      "$ AVG_WPM             <dbl> 44.96361, 90.58570, 65.50282, 38.60167, 69.05079, ~\n",
      "$ AVG_CPS             <dbl> 3.746967, 7.548808, 5.458568, 3.216806, 5.754233, ~\n",
      "$ AVG_KSPC            <dbl> 1.132736, 1.060760, 1.243917, 1.229981, 1.152858, ~\n",
      "$ AVG_ER              <dbl> 0.2840909, 0.6734007, 1.4779469, 5.4002693, 2.1461~\n",
      "$ AVG_C_ER            <dbl> 4.9995081, 2.1563710, 9.8352119, 8.5616894, 5.3617~\n",
      "$ AVG_T_ER            <dbl> 5.2749902, 2.8297717, 11.1470141, 13.3626985, 7.29~\n",
      "$ AVG_BC              <dbl> 1.72727273, 0.63636364, 3.54545455, 3.09090909, 1.~\n",
      "$ AVG_INPUT_TIME      <dbl> 8.828091, 4.560091, 5.985455, 9.630364, 4.585636, ~\n",
      "$ AVG_VST             <dbl> 1054.8182, 349.1818, 332.4545, 447.4545, 182.3636,~\n",
      "$ CONDITION           <fct> normal, off, enhanced, enhanced, enhanced, off, no~\n",
      "$ PARTICIPANT_ID      <fct> lqKChKGGMFNaGvLCZhva, 2k6c3UE1moGMXX5sANSS, 42Qb5L~\n",
      "$ AGE                 <dbl> 25, 24, 21, 21, 23, 24, 21, 24, 28, 21, 25, 22, 23~\n",
      "$ AVG_DAILY_TYPING    <dbl> 2, 2, 2, 1, 4, 2, 1, 5, 10, 1, 2, 3, 4, 5, 1, 2, 1~\n",
      "$ DATE                <dttm> 2022-02-09 13:18:56, 2022-02-09 09:54:32, 2022-02~\n",
      "$ ENGLISH_USE         <fct> rarely, usually, always, sometimes, sometimes, som~\n",
      "$ GENDER              <fct> m, m, m, w, w, m, m, m, m, w, m, m, w, m, m, m, m,~\n",
      "$ IS_TYPIST           <lgl> FALSE, TRUE, TRUE, FALSE, FALSE, FALSE, FALSE, FAL~\n",
      "$ KEYBOARD_LAYOUT     <fct> qwertz, qwerty, qwerty, qwertz, qwertz, qwertz, qw~\n",
      "$ KEYBOARD_PROFILE    <fct> low, high, high, low, low, low, low, high, low, lo~\n",
      "$ NATIVE_LANGUAGE     <fct> \"albanian\", \"german\", \"german\", \"german\", \"vietnam~\n",
      "$ TOUCH_TYPING_COURSE <lgl> FALSE, FALSE, TRUE, FALSE, FALSE, FALSE, FALSE, TR~\n",
      "$ USED_FINGERS        <dbl> 8, 10, 10, 4, 4, 6, 8, 7, 7, 4, 8, 6, 4, 8, 10, 6,~\n",
      "$ USED_HAND           <fct> both, both, both, both, both, both, both, both, bo~\n",
      "$ EXPERIENCED         <fct> yes, yes, yes, no, yes, no, no, yes, no, no, yes, ~\n"
     ]
    }
   ],
   "source": [
    "glimpse(valid_tests)"
   ]
  },
  {
   "cell_type": "markdown",
   "metadata": {},
   "source": [
    "### Saving the clean data"
   ]
  },
  {
   "cell_type": "code",
   "execution_count": 100,
   "metadata": {},
   "outputs": [],
   "source": [
    "# write.csv(valid_metrics,\"clean_data\\\\phrases.csv\", row.names = FALSE)\n",
    "# write.csv(valid_participants, \"clean_data\\\\participants.csv\", row.names = FALSE)\n",
    "# write.csv(valid_tests, \"clean_data\\\\tests.csv\", row.names = FALSE)"
   ]
  }
 ],
 "metadata": {
  "kernelspec": {
   "display_name": "R",
   "language": "R",
   "name": "ir"
  },
  "language_info": {
   "codemirror_mode": "r",
   "file_extension": ".r",
   "mimetype": "text/x-r-source",
   "name": "R",
   "pygments_lexer": "r",
   "version": "3.6.1"
  }
 },
 "nbformat": 4,
 "nbformat_minor": 4
}
