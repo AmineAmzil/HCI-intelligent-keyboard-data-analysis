{
 "cells": [
  {
   "cell_type": "code",
   "execution_count": 2,
   "metadata": {},
   "outputs": [],
   "source": [
    "library(readr)\n",
    "library(dplyr)\n",
    "library(tidyr)\n",
    "library(rstatix)\n",
    "library(ggplot2)\n",
    "library(skimr)\n",
    "library(ggpubr)\n",
    "library(stargazer)"
   ]
  },
  {
   "cell_type": "markdown",
   "metadata": {},
   "source": [
    "# reading the data"
   ]
  },
  {
   "cell_type": "code",
   "execution_count": 3,
   "metadata": {},
   "outputs": [
    {
     "name": "stdout",
     "output_type": "stream",
     "text": [
      "Rows: 20\n",
      "Columns: 25\n",
      "$ PARTICIPANT_ID      <fct> 1N8UzywCgZLplZWpjmhN, 2BYHrlcS9UljeLxeZvh5, 2k6c3U~\n",
      "$ NUMBER_OF_PHRASES   <int> 33, 33, 33, 33, 33, 33, 33, 33, 33, 33, 33, 33, 33~\n",
      "$ AVG_PT_LENGTH       <dbl> 29.51515, 28.57576, 28.93939, 29.15152, 28.09091, ~\n",
      "$ AVG_TT_LENGTH       <dbl> 29.51515, 28.54545, 28.84848, 29.33333, 28.03030, ~\n",
      "$ AVG_WPM             <dbl> 41.81962, 48.05361, 81.86951, 61.18530, 36.67642, ~\n",
      "$ AVG_CPS             <dbl> 3.484969, 4.004467, 6.822459, 5.098775, 3.056368, ~\n",
      "$ AVG_KSPC            <dbl> 1.061858, 1.083106, 1.065553, 1.217266, 1.306227, ~\n",
      "$ AVG_ER              <dbl> 0.1886683, 1.7241221, 1.6446791, 1.7619891, 2.2438~\n",
      "$ AVG_C_ER            <dbl> 2.2742142, 3.2150367, 2.6924993, 8.9224739, 12.163~\n",
      "$ AVG_T_ER            <dbl> 2.444969, 4.799568, 4.301229, 10.567631, 14.110487~\n",
      "$ AVG_BC              <dbl> 0.8484848, 1.1515152, 0.8787879, 3.1515152, 4.1515~\n",
      "$ AVG_INPUT_TIME      <dbl> 9.866455, 7.655485, 4.810455, 6.467606, 9.206909, ~\n",
      "$ AVG_VST             <dbl> 937.6364, 293.2424, 360.9091, 272.0000, 257.9091, ~\n",
      "$ AGE                 <int> 25, 27, 24, 21, 24, 21, 22, 28, 21, 28, 23, 21, 25~\n",
      "$ AVG_DAILY_TYPING    <int> 1, 3, 2, 2, 5, 5, 3, 2, 6, 10, 4, 1, 1, 2, 2, 1, 1~\n",
      "$ ENGLISH_USE         <fct> usually, always, usually, always, usually, rarely,~\n",
      "$ GENDER              <fct> m, w, m, m, m, w, m, w, m, m, w, w, m, m, m, m, m,~\n",
      "$ IS_TYPIST           <lgl> FALSE, TRUE, TRUE, TRUE, FALSE, FALSE, FALSE, FALS~\n",
      "$ KEYBOARD_LAYOUT     <fct> qwertz, qwertz, qwerty, qwerty, qwertz, qwertz, qw~\n",
      "$ KEYBOARD_PROFILE    <fct> high, low, high, high, low, low, low, low, low, lo~\n",
      "$ NATIVE_LANGUAGE     <fct> \"german\", \"romanian, moldavian, moldovan\", \"german~\n",
      "$ TOUCH_TYPING_COURSE <lgl> FALSE, FALSE, FALSE, TRUE, FALSE, FALSE, FALSE, FA~\n",
      "$ USED_FINGERS        <int> 10, 6, 10, 10, 8, 7, 6, 5, 4, 7, 4, 4, 4, 8, 4, 8,~\n",
      "$ USED_HAND           <fct> both, both, both, both, both, both, both, right, b~\n",
      "$ EXPERIENCED         <fct> yes, yes, yes, yes, no, no, yes, no, no, no, yes, ~\n"
     ]
    }
   ],
   "source": [
    "participants <- read.csv(\"clean_data\\\\participants.csv\") \n",
    "glimpse(participants)"
   ]
  },
  {
   "cell_type": "code",
   "execution_count": 4,
   "metadata": {},
   "outputs": [
    {
     "name": "stdout",
     "output_type": "stream",
     "text": [
      "Rows: 60\n",
      "Columns: 28\n",
      "$ TEST_ID             <fct> 2Lc3KoNUrxzeFswSJ5Rf, 2xLmSHgHeUSCsObsz9Vr, 3fZGwP~\n",
      "$ NUMBER_OF_PHRASES   <int> 11, 11, 11, 11, 11, 11, 11, 11, 11, 11, 11, 11, 11~\n",
      "$ AVG_PT_LENGTH       <dbl> 30.45455, 28.00000, 29.90909, 29.63636, 26.00000, ~\n",
      "$ AVG_TT_LENGTH       <dbl> 30.54545, 28.00000, 30.09091, 29.81818, 25.63636, ~\n",
      "$ AVG_WPM             <dbl> 44.96361, 90.58570, 65.50282, 38.60167, 69.05079, ~\n",
      "$ AVG_CPS             <dbl> 3.746967, 7.548808, 5.458568, 3.216806, 5.754233, ~\n",
      "$ AVG_KSPC            <dbl> 1.132736, 1.060760, 1.243917, 1.229981, 1.152858, ~\n",
      "$ AVG_ER              <dbl> 0.2840909, 0.6734007, 1.4779469, 5.4002693, 2.1461~\n",
      "$ AVG_C_ER            <dbl> 4.9995081, 2.1563710, 9.8352119, 8.5616894, 5.3617~\n",
      "$ AVG_T_ER            <dbl> 5.2749902, 2.8297717, 11.1470141, 13.3626985, 7.29~\n",
      "$ AVG_BC              <dbl> 1.72727273, 0.63636364, 3.54545455, 3.09090909, 1.~\n",
      "$ AVG_INPUT_TIME      <dbl> 8.828091, 4.560091, 5.985455, 9.630364, 4.585636, ~\n",
      "$ AVG_VST             <dbl> 1054.8182, 349.1818, 332.4545, 447.4545, 182.3636,~\n",
      "$ CONDITION           <fct> normal, off, enhanced, enhanced, enhanced, off, no~\n",
      "$ PARTICIPANT_ID      <fct> lqKChKGGMFNaGvLCZhva, 2k6c3UE1moGMXX5sANSS, 42Qb5L~\n",
      "$ AGE                 <int> 25, 24, 21, 21, 23, 24, 21, 24, 28, 21, 25, 22, 23~\n",
      "$ AVG_DAILY_TYPING    <int> 2, 2, 2, 1, 4, 2, 1, 5, 10, 1, 2, 3, 4, 5, 1, 2, 1~\n",
      "$ DATE                <fct> 2022-02-09 13:18:56, 2022-02-09 09:54:32, 2022-02-~\n",
      "$ ENGLISH_USE         <fct> rarely, usually, always, sometimes, sometimes, som~\n",
      "$ GENDER              <fct> m, m, m, w, w, m, m, m, m, w, m, m, w, m, m, m, m,~\n",
      "$ IS_TYPIST           <lgl> FALSE, TRUE, TRUE, FALSE, FALSE, FALSE, FALSE, FAL~\n",
      "$ KEYBOARD_LAYOUT     <fct> qwertz, qwerty, qwerty, qwertz, qwertz, qwertz, qw~\n",
      "$ KEYBOARD_PROFILE    <fct> low, high, high, low, low, low, low, high, low, lo~\n",
      "$ NATIVE_LANGUAGE     <fct> \"albanian\", \"german\", \"german\", \"german\", \"vietnam~\n",
      "$ TOUCH_TYPING_COURSE <lgl> FALSE, FALSE, TRUE, FALSE, FALSE, FALSE, FALSE, TR~\n",
      "$ USED_FINGERS        <int> 8, 10, 10, 4, 4, 6, 8, 7, 7, 4, 8, 6, 4, 8, 10, 6,~\n",
      "$ USED_HAND           <fct> both, both, both, both, both, both, both, both, bo~\n",
      "$ EXPERIENCED         <fct> yes, yes, yes, no, yes, no, no, yes, no, no, yes, ~\n"
     ]
    }
   ],
   "source": [
    "tests <- read.csv(\"clean_data\\\\tests.csv\") \n",
    "glimpse(tests)"
   ]
  },
  {
   "cell_type": "code",
   "execution_count": 5,
   "metadata": {},
   "outputs": [
    {
     "name": "stdout",
     "output_type": "stream",
     "text": [
      "Rows: 660\n",
      "Columns: 29\n",
      "$ BACKSPACE_COUNT          <int> 0, 3, 0, 0, 0, 2, 0, 0, 0, 2, 0, 0, 1, 0, 0, ~\n",
      "$ CAC                      <int> 0, 5, 0, 0, 0, 2, 0, 0, 0, 2, 0, 0, 1, 0, 0, ~\n",
      "$ CAR                      <dbl> 0.000000, 12.820513, 0.000000, 0.000000, 0.00~\n",
      "$ CAT_R                    <dbl> 0.000000, 78.966354, 0.000000, 0.000000, 0.00~\n",
      "$ CCC                      <int> 0, 2, 0, 0, 0, 0, 0, 0, 0, 0, 0, 0, 0, 0, 0, ~\n",
      "$ CONDITION                <fct> off, off, off, off, off, off, off, off, off, ~\n",
      "$ CORRECTED_ERROR_RATE     <dbl> 0.000000, 8.823529, 0.000000, 0.000000, 0.000~\n",
      "$ CPS                      <dbl> 7.842205, 1.967600, 11.331445, 8.717762, 6.07~\n",
      "$ ERROR_RATE               <dbl> 0.000000, 0.000000, 0.000000, 0.000000, 0.000~\n",
      "$ TEST_ID                  <fct> 2xLmSHgHeUSCsObsz9Vr, 2xLmSHgHeUSCsObsz9Vr, 2~\n",
      "$ INPUT_TIME               <dbl> 4.208, 15.247, 2.471, 2.753, 5.100, 4.935, 2.~\n",
      "$ IS_LENGTH                <int> 37, 39, 29, 25, 32, 31, 24, 27, 29, 27, 27, 1~\n",
      "$ KEYSTROKES_PER_CHARACTER <dbl> 1.088235, 1.258065, 1.000000, 1.000000, 1.000~\n",
      "$ LEVENSHTEIN_DELETION     <int> 0, 0, 0, 0, 0, 0, 0, 1, 0, 0, 0, 0, 0, 0, 0, ~\n",
      "$ LEVENSHTEIN_INSERTION    <int> 0, 0, 0, 0, 0, 0, 0, 1, 0, 0, 0, 0, 0, 0, 4, ~\n",
      "$ LEVENSHTEIN_SUBSTITUTION <int> 0, 0, 0, 0, 0, 0, 0, 0, 0, 0, 0, 0, 0, 0, 0, ~\n",
      "$ MINIMUM_STRING_DISTANCE  <dbl> 0.000000, 0.000000, 0.000000, 0.000000, 0.000~\n",
      "$ PHRASE_NUMBER            <int> 2, 1, 4, 5, 3, 8, 9, 7, 6, 11, 10, 2, 3, 4, 1~\n",
      "$ PT                       <fct> staying up all night is a bad idea, your pres~\n",
      "$ PT_LENGTH                <int> 34, 31, 29, 25, 32, 27, 24, 27, 29, 23, 27, 1~\n",
      "$ PARTICIPANT_ID           <fct> 2k6c3UE1moGMXX5sANSS, 2k6c3UE1moGMXX5sANSS, 2~\n",
      "$ TOTAL_ERROR_RATE         <dbl> 0.000000, 8.823529, 0.000000, 0.000000, 0.000~\n",
      "$ TOTAL_PHRASES            <int> 12, 12, 12, 12, 12, 12, 12, 12, 12, 12, 12, 1~\n",
      "$ TT                       <fct> staying up all night is a bad idea, your pres~\n",
      "$ TT_LENGTH                <int> 34, 31, 29, 25, 32, 27, 24, 27, 29, 23, 27, 1~\n",
      "$ T_CAT                    <dbl> 0.000, 12.040, 0.000, 0.000, 0.000, 0.655, 0.~\n",
      "$ VST                      <int> 169, 2145, 186, 105, 193, 101, 106, 174, 270,~\n",
      "$ WPM                      <dbl> 94.10646, 23.61120, 135.97734, 104.61315, 72.~\n",
      "$ DATE                     <fct> 2022-02-09 09:54:39, 2022-02-09 09:54:39, 202~\n"
     ]
    }
   ],
   "source": [
    "phrases <- read.csv(\"clean_data\\\\phrases.csv\") \n",
    "glimpse(phrases)"
   ]
  },
  {
   "cell_type": "markdown",
   "metadata": {},
   "source": [
    "# Visualisation"
   ]
  },
  {
   "cell_type": "markdown",
   "metadata": {},
   "source": [
    "### Experience"
   ]
  },
  {
   "cell_type": "code",
   "execution_count": 6,
   "metadata": {},
   "outputs": [
    {
     "data": {
      "image/png": "[encoded data removed]",
      "text/plain": [
       "plot without title"
      ]
     },
     "metadata": {},
     "output_type": "display_data"
    }
   ],
   "source": [
    "participants %>%\n",
    "group_by(EXPERIENCED) %>%\n",
    "tally() %>%\n",
    "ggplot(mapping = aes(x = EXPERIENCED, y = n, fill = EXPERIENCED)) +\n",
    "geom_bar(\n",
    "    stat=\"identity\"\n",
    ") +\n",
    "geom_text(aes(label=n), vjust=1.6, color=\"black\", size=3.5) +\n",
    "theme(legend.position=\"none\") +\n",
    "theme_minimal() +\n",
    "theme(legend.position=\"none\") +\n",
    "labs(title = \"Participants\") +\n",
    "xlab(\"Experienced\") +\n",
    "ylab(\"Number of Participants\")"
   ]
  },
  {
   "cell_type": "markdown",
   "metadata": {},
   "source": [
    "### WPM"
   ]
  },
  {
   "cell_type": "code",
   "execution_count": 7,
   "metadata": {},
   "outputs": [
    {
     "data": {
      "image/png": "[encoded data removed]",
      "text/plain": [
       "plot without title"
      ]
     },
     "metadata": {},
     "output_type": "display_data"
    },
    {
     "data": {
      "image/png": "[encoded data removed]",
      "text/plain": [
       "plot without title"
      ]
     },
     "metadata": {},
     "output_type": "display_data"
    },
    {
     "data": {
      "image/png": "[encoded data removed]",
      "text/plain": [
       "plot without title"
      ]
     },
     "metadata": {},
     "output_type": "display_data"
    }
   ],
   "source": [
    "tests %>% \n",
    "select(CONDITION, EXPERIENCED, AVG_WPM) %>%\n",
    "ggplot(mapping = aes(y = AVG_WPM, fill = EXPERIENCED )) +\n",
    "facet_wrap(~CONDITION)+\n",
    "geom_boxplot()+\n",
    "labs(title = \"Average WPM by CONDITION and EXPERIENCE\") +\n",
    "ylab(\"WPM\")\n",
    "\n",
    "tests %>% \n",
    "select(CONDITION, EXPERIENCED, AVG_WPM) %>%\n",
    "ggplot(mapping = aes(y = AVG_WPM, fill =  CONDITION)) +\n",
    "geom_boxplot()+\n",
    "labs(title = \"Average WPM by CONDITION\") +\n",
    "ylab(\"WPM\")\n",
    "\n",
    "tests %>% \n",
    "select(CONDITION, EXPERIENCED, AVG_WPM) %>%\n",
    "ggplot(mapping = aes(y = AVG_WPM, fill =  EXPERIENCED)) +\n",
    "geom_boxplot()+\n",
    "labs(title = \"Average WPM by CODITION\") +\n",
    "ylab(\"WPM\")\n",
    "\n"
   ]
  },
  {
   "cell_type": "markdown",
   "metadata": {},
   "source": [
    "### Error Rate"
   ]
  },
  {
   "cell_type": "code",
   "execution_count": 8,
   "metadata": {},
   "outputs": [
    {
     "data": {
      "image/png": "[encoded data removed]",
      "text/plain": [
       "plot without title"
      ]
     },
     "metadata": {},
     "output_type": "display_data"
    }
   ],
   "source": [
    "tests %>%\n",
    "select(CONDITION, EXPERIENCED, contains(\"_ER\"))%>%\n",
    "pivot_longer(\n",
    "    cols = contains(\"_ER\"),\n",
    "    names_to = \"ER_Type\", \n",
    "    values_to = \"result\"\n",
    ")%>%\n",
    "ggplot(\n",
    "    mapping = aes(x = EXPERIENCED, y = result, fill = CONDITION)\n",
    ")+\n",
    "geom_boxplot()+\n",
    "facet_wrap(~ER_Type)"
   ]
  },
  {
   "cell_type": "markdown",
   "metadata": {},
   "source": [
    "# Statistical Test"
   ]
  },
  {
   "cell_type": "markdown",
   "metadata": {},
   "source": [
    "### Two-way mixed ANOVA"
   ]
  },
  {
   "cell_type": "markdown",
   "metadata": {},
   "source": [
    "#### WPM"
   ]
  },
  {
   "cell_type": "code",
   "execution_count": 9,
   "metadata": {},
   "outputs": [
    {
     "data": {
      "image/png": "[encoded data removed]",
      "text/plain": [
       "plot without title"
      ]
     },
     "metadata": {},
     "output_type": "display_data"
    }
   ],
   "source": [
    "tests %>%\n",
    "ggboxplot(\n",
    "    x = \"CONDITION\", \n",
    "    y = \"AVG_WPM\",\n",
    "    color = \"EXPERIENCED\", \n",
    "    palette = \"jco\"\n",
    "  )"
   ]
  },
  {
   "cell_type": "markdown",
   "metadata": {},
   "source": [
    "### Outliers"
   ]
  },
  {
   "cell_type": "code",
   "execution_count": 10,
   "metadata": {},
   "outputs": [
    {
     "data": {
      "text/html": [
       "<table>\n",
       "<thead><tr><th scope=col>CONDITION</th><th scope=col>EXPERIENCED</th><th scope=col>PARTICIPANT_ID</th><th scope=col>TEST_ID</th><th scope=col>AVG_WPM</th><th scope=col>is.outlier</th><th scope=col>is.extreme</th></tr></thead>\n",
       "<tbody>\n",
       "\t<tr><td>normal              </td><td>yes                 </td><td>2k6c3UE1moGMXX5sANSS</td><td>kqMna9qVOShlqvQ9xYsO</td><td>71.54487            </td><td>TRUE                </td><td>FALSE               </td></tr>\n",
       "\t<tr><td>normal              </td><td>yes                 </td><td>bEm4bVotxdvnkHEYzzi5</td><td>skhKgpihZltABF4CBU8E</td><td>24.49795            </td><td>TRUE                </td><td>FALSE               </td></tr>\n",
       "\t<tr><td>off                 </td><td>yes                 </td><td>2k6c3UE1moGMXX5sANSS</td><td>2xLmSHgHeUSCsObsz9Vr</td><td>90.58570            </td><td>TRUE                </td><td>FALSE               </td></tr>\n",
       "</tbody>\n",
       "</table>\n"
      ],
      "text/latex": [
       "\\begin{tabular}{r|lllllll}\n",
       " CONDITION & EXPERIENCED & PARTICIPANT\\_ID & TEST\\_ID & AVG\\_WPM & is.outlier & is.extreme\\\\\n",
       "\\hline\n",
       "\t normal               & yes                  & 2k6c3UE1moGMXX5sANSS & kqMna9qVOShlqvQ9xYsO & 71.54487             & TRUE                 & FALSE               \\\\\n",
       "\t normal               & yes                  & bEm4bVotxdvnkHEYzzi5 & skhKgpihZltABF4CBU8E & 24.49795             & TRUE                 & FALSE               \\\\\n",
       "\t off                  & yes                  & 2k6c3UE1moGMXX5sANSS & 2xLmSHgHeUSCsObsz9Vr & 90.58570             & TRUE                 & FALSE               \\\\\n",
       "\\end{tabular}\n"
      ],
      "text/markdown": [
       "\n",
       "| CONDITION | EXPERIENCED | PARTICIPANT_ID | TEST_ID | AVG_WPM | is.outlier | is.extreme |\n",
       "|---|---|---|---|---|---|---|\n",
       "| normal               | yes                  | 2k6c3UE1moGMXX5sANSS | kqMna9qVOShlqvQ9xYsO | 71.54487             | TRUE                 | FALSE                |\n",
       "| normal               | yes                  | bEm4bVotxdvnkHEYzzi5 | skhKgpihZltABF4CBU8E | 24.49795             | TRUE                 | FALSE                |\n",
       "| off                  | yes                  | 2k6c3UE1moGMXX5sANSS | 2xLmSHgHeUSCsObsz9Vr | 90.58570             | TRUE                 | FALSE                |\n",
       "\n"
      ],
      "text/plain": [
       "  CONDITION EXPERIENCED PARTICIPANT_ID       TEST_ID              AVG_WPM \n",
       "1 normal    yes         2k6c3UE1moGMXX5sANSS kqMna9qVOShlqvQ9xYsO 71.54487\n",
       "2 normal    yes         bEm4bVotxdvnkHEYzzi5 skhKgpihZltABF4CBU8E 24.49795\n",
       "3 off       yes         2k6c3UE1moGMXX5sANSS 2xLmSHgHeUSCsObsz9Vr 90.58570\n",
       "  is.outlier is.extreme\n",
       "1 TRUE       FALSE     \n",
       "2 TRUE       FALSE     \n",
       "3 TRUE       FALSE     "
      ]
     },
     "metadata": {},
     "output_type": "display_data"
    }
   ],
   "source": [
    "tests %>%\n",
    "select(PARTICIPANT_ID, TEST_ID, CONDITION, EXPERIENCED, AVG_WPM) %>%\n",
    "group_by(CONDITION, EXPERIENCED) %>%\n",
    "identify_outliers(AVG_WPM)"
   ]
  },
  {
   "cell_type": "markdown",
   "metadata": {},
   "source": [
    "### Normality assumption"
   ]
  },
  {
   "cell_type": "code",
   "execution_count": 11,
   "metadata": {},
   "outputs": [
    {
     "data": {
      "text/html": [
       "<table>\n",
       "<thead><tr><th scope=col>CONDITION</th><th scope=col>EXPERIENCED</th><th scope=col>variable</th><th scope=col>statistic</th><th scope=col>p</th></tr></thead>\n",
       "<tbody>\n",
       "\t<tr><td>enhanced </td><td>no       </td><td>AVG_WPM  </td><td>0.8757698</td><td>0.1166386</td></tr>\n",
       "\t<tr><td>enhanced </td><td>yes      </td><td>AVG_WPM  </td><td>0.9751963</td><td>0.9344066</td></tr>\n",
       "\t<tr><td>normal   </td><td>no       </td><td>AVG_WPM  </td><td>0.9490893</td><td>0.6577374</td></tr>\n",
       "\t<tr><td>normal   </td><td>yes      </td><td>AVG_WPM  </td><td>0.9591775</td><td>0.7764542</td></tr>\n",
       "\t<tr><td>off      </td><td>no       </td><td>AVG_WPM  </td><td>0.9751596</td><td>0.9341342</td></tr>\n",
       "\t<tr><td>off      </td><td>yes      </td><td>AVG_WPM  </td><td>0.8714282</td><td>0.1038685</td></tr>\n",
       "</tbody>\n",
       "</table>\n"
      ],
      "text/latex": [
       "\\begin{tabular}{r|lllll}\n",
       " CONDITION & EXPERIENCED & variable & statistic & p\\\\\n",
       "\\hline\n",
       "\t enhanced  & no        & AVG\\_WPM & 0.8757698 & 0.1166386\\\\\n",
       "\t enhanced  & yes       & AVG\\_WPM & 0.9751963 & 0.9344066\\\\\n",
       "\t normal    & no        & AVG\\_WPM & 0.9490893 & 0.6577374\\\\\n",
       "\t normal    & yes       & AVG\\_WPM & 0.9591775 & 0.7764542\\\\\n",
       "\t off       & no        & AVG\\_WPM & 0.9751596 & 0.9341342\\\\\n",
       "\t off       & yes       & AVG\\_WPM & 0.8714282 & 0.1038685\\\\\n",
       "\\end{tabular}\n"
      ],
      "text/markdown": [
       "\n",
       "| CONDITION | EXPERIENCED | variable | statistic | p |\n",
       "|---|---|---|---|---|\n",
       "| enhanced  | no        | AVG_WPM   | 0.8757698 | 0.1166386 |\n",
       "| enhanced  | yes       | AVG_WPM   | 0.9751963 | 0.9344066 |\n",
       "| normal    | no        | AVG_WPM   | 0.9490893 | 0.6577374 |\n",
       "| normal    | yes       | AVG_WPM   | 0.9591775 | 0.7764542 |\n",
       "| off       | no        | AVG_WPM   | 0.9751596 | 0.9341342 |\n",
       "| off       | yes       | AVG_WPM   | 0.8714282 | 0.1038685 |\n",
       "\n"
      ],
      "text/plain": [
       "  CONDITION EXPERIENCED variable statistic p        \n",
       "1 enhanced  no          AVG_WPM  0.8757698 0.1166386\n",
       "2 enhanced  yes         AVG_WPM  0.9751963 0.9344066\n",
       "3 normal    no          AVG_WPM  0.9490893 0.6577374\n",
       "4 normal    yes         AVG_WPM  0.9591775 0.7764542\n",
       "5 off       no          AVG_WPM  0.9751596 0.9341342\n",
       "6 off       yes         AVG_WPM  0.8714282 0.1038685"
      ]
     },
     "metadata": {},
     "output_type": "display_data"
    }
   ],
   "source": [
    "tests %>%\n",
    "group_by(CONDITION, EXPERIENCED) %>%\n",
    "shapiro_test(AVG_WPM)"
   ]
  },
  {
   "cell_type": "code",
   "execution_count": 12,
   "metadata": {},
   "outputs": [
    {
     "data": {
      "image/png": "[encoded data removed]",
      "text/plain": [
       "plot without title"
      ]
     },
     "metadata": {},
     "output_type": "display_data"
    }
   ],
   "source": [
    "ggqqplot(tests, \"AVG_WPM\", ggtheme = theme_bw()) +\n",
    "  facet_grid(CONDITION ~ EXPERIENCED)"
   ]
  },
  {
   "cell_type": "markdown",
   "metadata": {},
   "source": [
    "### Computation"
   ]
  },
  {
   "cell_type": "code",
   "execution_count": 13,
   "metadata": {},
   "outputs": [
    {
     "data": {
      "text/html": [
       "<table>\n",
       "<thead><tr><th scope=col>Effect</th><th scope=col>DFn</th><th scope=col>DFd</th><th scope=col>F</th><th scope=col>p</th><th scope=col>p&lt;.05</th><th scope=col>ges</th></tr></thead>\n",
       "<tbody>\n",
       "\t<tr><td>EXPERIENCED          </td><td>1                    </td><td>18                   </td><td>16.852               </td><td>6.65e-04             </td><td>*                    </td><td>0.430                </td></tr>\n",
       "\t<tr><td>CONDITION            </td><td>2                    </td><td>36                   </td><td>13.279               </td><td>4.79e-05             </td><td>*                    </td><td>0.126                </td></tr>\n",
       "\t<tr><td>EXPERIENCED:CONDITION</td><td>2                    </td><td>36                   </td><td> 3.781               </td><td>3.20e-02             </td><td>*                    </td><td>0.039                </td></tr>\n",
       "</tbody>\n",
       "</table>\n"
      ],
      "text/latex": [
       "\\begin{tabular}{r|lllllll}\n",
       " Effect & DFn & DFd & F & p & p<.05 & ges\\\\\n",
       "\\hline\n",
       "\t EXPERIENCED           & 1                     & 18                    & 16.852                & 6.65e-04              & *                     & 0.430                \\\\\n",
       "\t CONDITION             & 2                     & 36                    & 13.279                & 4.79e-05              & *                     & 0.126                \\\\\n",
       "\t EXPERIENCED:CONDITION & 2                     & 36                    &  3.781                & 3.20e-02              & *                     & 0.039                \\\\\n",
       "\\end{tabular}\n"
      ],
      "text/markdown": [
       "\n",
       "| Effect | DFn | DFd | F | p | p<.05 | ges |\n",
       "|---|---|---|---|---|---|---|\n",
       "| EXPERIENCED           | 1                     | 18                    | 16.852                | 6.65e-04              | *                     | 0.430                 |\n",
       "| CONDITION             | 2                     | 36                    | 13.279                | 4.79e-05              | *                     | 0.126                 |\n",
       "| EXPERIENCED:CONDITION | 2                     | 36                    |  3.781                | 3.20e-02              | *                     | 0.039                 |\n",
       "\n"
      ],
      "text/plain": [
       "  Effect                DFn DFd F      p        p<.05 ges  \n",
       "1 EXPERIENCED           1   18  16.852 6.65e-04 *     0.430\n",
       "2 CONDITION             2   36  13.279 4.79e-05 *     0.126\n",
       "3 EXPERIENCED:CONDITION 2   36   3.781 3.20e-02 *     0.039"
      ]
     },
     "metadata": {},
     "output_type": "display_data"
    },
    {
     "name": "stdout",
     "output_type": "stream",
     "text": [
      "\n",
      "% Table created by stargazer v.5.2.2 by Marek Hlavac, Harvard University. E-mail: hlavac at fas.harvard.edu\n",
      "% Date and time: Thu, Mar 10, 2022 - 3:34:51 PM\n",
      "\\begin{table}[!htbp] \\centering \n",
      "  \\caption{} \n",
      "  \\label{} \n",
      "\\begin{tabular}{@{\\extracolsep{5pt}} cccccccc} \n",
      "\\\\[-1.8ex]\\hline \n",
      "\\hline \\\\[-1.8ex] \n",
      " & Effect & DFn & DFd & F & p & p\\textless .05 & ges \\\\ \n",
      "\\hline \\\\[-1.8ex] \n",
      "1 & EXPERIENCED & $1$ & $18$ & $16.852$ & $0.001$ & \\textasteriskcentered  & $0.430$ \\\\ \n",
      "2 & CONDITION & $2$ & $36$ & $13.279$ & $0.00005$ & \\textasteriskcentered  & $0.126$ \\\\ \n",
      "3 & EXPERIENCED:CONDITION & $2$ & $36$ & $3.781$ & $0.032$ & \\textasteriskcentered  & $0.039$ \\\\ \n",
      "\\hline \\\\[-1.8ex] \n",
      "\\end{tabular} \n",
      "\\end{table} \n"
     ]
    }
   ],
   "source": [
    "# Two-way mixed ANOVA test\n",
    "\n",
    "res.aov_wpm <- anova_test(\n",
    "    data = tests,\n",
    "    dv = AVG_WPM,\n",
    "    wid = PARTICIPANT_ID,\n",
    "    between = EXPERIENCED,\n",
    "    within = CONDITION\n",
    "  )\n",
    "get_anova_table(res.aov_wpm)\n",
    "\n",
    "res.aov_wpm$ANOVA %>%\n",
    "stargazer(summary = FALSE)"
   ]
  },
  {
   "cell_type": "markdown",
   "metadata": {},
   "source": [
    "### Post-hoc tests"
   ]
  },
  {
   "cell_type": "markdown",
   "metadata": {},
   "source": [
    "##### Effect of EXPERIENCE at each CONDITION on WPM"
   ]
  },
  {
   "cell_type": "code",
   "execution_count": 14,
   "metadata": {},
   "outputs": [
    {
     "name": "stderr",
     "output_type": "stream",
     "text": [
      "Coefficient covariances computed by hccm()\n",
      "Coefficient covariances computed by hccm()\n",
      "Coefficient covariances computed by hccm()\n"
     ]
    },
    {
     "data": {
      "text/html": [
       "<table>\n",
       "<thead><tr><th scope=col>CONDITION</th><th scope=col>Effect</th><th scope=col>DFn</th><th scope=col>DFd</th><th scope=col>F</th><th scope=col>p</th><th scope=col>p&lt;.05</th><th scope=col>ges</th><th scope=col>p.adj</th></tr></thead>\n",
       "<tbody>\n",
       "\t<tr><td>enhanced   </td><td>EXPERIENCED</td><td>1          </td><td>18         </td><td> 9.143     </td><td>7.00e-03   </td><td>*          </td><td>0.337      </td><td>2.10e-02   </td></tr>\n",
       "\t<tr><td>normal     </td><td>EXPERIENCED</td><td>1          </td><td>18         </td><td> 7.839     </td><td>1.20e-02   </td><td>*          </td><td>0.303      </td><td>3.60e-02   </td></tr>\n",
       "\t<tr><td>off        </td><td>EXPERIENCED</td><td>1          </td><td>18         </td><td>33.396     </td><td>1.78e-05   </td><td>*          </td><td>0.650      </td><td>5.34e-05   </td></tr>\n",
       "</tbody>\n",
       "</table>\n"
      ],
      "text/latex": [
       "\\begin{tabular}{r|lllllllll}\n",
       " CONDITION & Effect & DFn & DFd & F & p & p<.05 & ges & p.adj\\\\\n",
       "\\hline\n",
       "\t enhanced    & EXPERIENCED & 1           & 18          &  9.143      & 7.00e-03    & *           & 0.337       & 2.10e-02   \\\\\n",
       "\t normal      & EXPERIENCED & 1           & 18          &  7.839      & 1.20e-02    & *           & 0.303       & 3.60e-02   \\\\\n",
       "\t off         & EXPERIENCED & 1           & 18          & 33.396      & 1.78e-05    & *           & 0.650       & 5.34e-05   \\\\\n",
       "\\end{tabular}\n"
      ],
      "text/markdown": [
       "\n",
       "| CONDITION | Effect | DFn | DFd | F | p | p<.05 | ges | p.adj |\n",
       "|---|---|---|---|---|---|---|---|---|\n",
       "| enhanced    | EXPERIENCED | 1           | 18          |  9.143      | 7.00e-03    | *           | 0.337       | 2.10e-02    |\n",
       "| normal      | EXPERIENCED | 1           | 18          |  7.839      | 1.20e-02    | *           | 0.303       | 3.60e-02    |\n",
       "| off         | EXPERIENCED | 1           | 18          | 33.396      | 1.78e-05    | *           | 0.650       | 5.34e-05    |\n",
       "\n"
      ],
      "text/plain": [
       "  CONDITION Effect      DFn DFd F      p        p<.05 ges   p.adj   \n",
       "1 enhanced  EXPERIENCED 1   18   9.143 7.00e-03 *     0.337 2.10e-02\n",
       "2 normal    EXPERIENCED 1   18   7.839 1.20e-02 *     0.303 3.60e-02\n",
       "3 off       EXPERIENCED 1   18  33.396 1.78e-05 *     0.650 5.34e-05"
      ]
     },
     "metadata": {},
     "output_type": "display_data"
    },
    {
     "name": "stdout",
     "output_type": "stream",
     "text": [
      "\n",
      "% Table created by stargazer v.5.2.2 by Marek Hlavac, Harvard University. E-mail: hlavac at fas.harvard.edu\n",
      "% Date and time: Thu, Mar 10, 2022 - 3:34:51 PM\n",
      "\\begin{table}[!htbp] \\centering \n",
      "  \\caption{} \n",
      "  \\label{} \n",
      "\\begin{tabular}{@{\\extracolsep{5pt}} cccccccccc} \n",
      "\\\\[-1.8ex]\\hline \n",
      "\\hline \\\\[-1.8ex] \n",
      " & CONDITION & Effect & DFn & DFd & F & p & p\\textless .05 & ges & p.adj \\\\ \n",
      "\\hline \\\\[-1.8ex] \n",
      "1 & enhanced & EXPERIENCED & $1$ & $18$ & $9.143$ & $0.007$ & \\textasteriskcentered  & $0.337$ & $0.021$ \\\\ \n",
      "2 & normal & EXPERIENCED & $1$ & $18$ & $7.839$ & $0.012$ & \\textasteriskcentered  & $0.303$ & $0.036$ \\\\ \n",
      "3 & off & EXPERIENCED & $1$ & $18$ & $33.396$ & $0.00002$ & \\textasteriskcentered  & $0.650$ & $0.0001$ \\\\ \n",
      "\\hline \\\\[-1.8ex] \n",
      "\\end{tabular} \n",
      "\\end{table} \n"
     ]
    }
   ],
   "source": [
    "one.way_wpm <- tests %>%\n",
    "group_by(CONDITION) %>%\n",
    "anova_test(\n",
    "  dv = AVG_WPM,\n",
    "  wid = PARTICIPANT_ID,\n",
    "  between = EXPERIENCED\n",
    ") %>%\n",
    "get_anova_table() %>%\n",
    "adjust_pvalue(method = \"bonferroni\")\n",
    "one.way_wpm\n",
    "\n",
    "one.way_wpm %>%\n",
    "as.data.frame %>%\n",
    "stargazer(summary = FALSE)"
   ]
  },
  {
   "cell_type": "markdown",
   "metadata": {},
   "source": [
    "##### Effect of CONDITION at each level of EXPERIENCE on WPM"
   ]
  },
  {
   "cell_type": "code",
   "execution_count": 15,
   "metadata": {},
   "outputs": [
    {
     "data": {
      "text/html": [
       "<table>\n",
       "<thead><tr><th scope=col>EXPERIENCED</th><th scope=col>Effect</th><th scope=col>DFn</th><th scope=col>DFd</th><th scope=col>F</th><th scope=col>p</th><th scope=col>p&lt;.05</th><th scope=col>ges</th><th scope=col>p.adj</th></tr></thead>\n",
       "<tbody>\n",
       "\t<tr><td>no       </td><td>CONDITION</td><td>2        </td><td>18       </td><td> 2.720   </td><td>0.093000 </td><td>         </td><td>0.087    </td><td>0.186000 </td></tr>\n",
       "\t<tr><td>yes      </td><td>CONDITION</td><td>2        </td><td>18       </td><td>11.866   </td><td>0.000517 </td><td>*        </td><td>0.174    </td><td>0.001034 </td></tr>\n",
       "</tbody>\n",
       "</table>\n"
      ],
      "text/latex": [
       "\\begin{tabular}{r|lllllllll}\n",
       " EXPERIENCED & Effect & DFn & DFd & F & p & p<.05 & ges & p.adj\\\\\n",
       "\\hline\n",
       "\t no        & CONDITION & 2         & 18        &  2.720    & 0.093000  &           & 0.087     & 0.186000 \\\\\n",
       "\t yes       & CONDITION & 2         & 18        & 11.866    & 0.000517  & *         & 0.174     & 0.001034 \\\\\n",
       "\\end{tabular}\n"
      ],
      "text/markdown": [
       "\n",
       "| EXPERIENCED | Effect | DFn | DFd | F | p | p<.05 | ges | p.adj |\n",
       "|---|---|---|---|---|---|---|---|---|\n",
       "| no        | CONDITION | 2         | 18        |  2.720    | 0.093000  |           | 0.087     | 0.186000  |\n",
       "| yes       | CONDITION | 2         | 18        | 11.866    | 0.000517  | *         | 0.174     | 0.001034  |\n",
       "\n"
      ],
      "text/plain": [
       "  EXPERIENCED Effect    DFn DFd F      p        p<.05 ges   p.adj   \n",
       "1 no          CONDITION 2   18   2.720 0.093000       0.087 0.186000\n",
       "2 yes         CONDITION 2   18  11.866 0.000517 *     0.174 0.001034"
      ]
     },
     "metadata": {},
     "output_type": "display_data"
    },
    {
     "name": "stdout",
     "output_type": "stream",
     "text": [
      "\n",
      "% Table created by stargazer v.5.2.2 by Marek Hlavac, Harvard University. E-mail: hlavac at fas.harvard.edu\n",
      "% Date and time: Thu, Mar 10, 2022 - 3:34:52 PM\n",
      "\\begin{table}[!htbp] \\centering \n",
      "  \\caption{} \n",
      "  \\label{} \n",
      "\\begin{tabular}{@{\\extracolsep{5pt}} cccccccccc} \n",
      "\\\\[-1.8ex]\\hline \n",
      "\\hline \\\\[-1.8ex] \n",
      " & EXPERIENCED & Effect & DFn & DFd & F & p & p\\textless .05 & ges & p.adj \\\\ \n",
      "\\hline \\\\[-1.8ex] \n",
      "1 & no & CONDITION & $2$ & $18$ & $2.720$ & $0.093$ &  & $0.087$ & $0.186$ \\\\ \n",
      "2 & yes & CONDITION & $2$ & $18$ & $11.866$ & $0.001$ & \\textasteriskcentered  & $0.174$ & $0.001$ \\\\ \n",
      "\\hline \\\\[-1.8ex] \n",
      "\\end{tabular} \n",
      "\\end{table} \n"
     ]
    }
   ],
   "source": [
    "one.way_wpm_2 <- tests %>%\n",
    "group_by(EXPERIENCED) %>%\n",
    "anova_test(\n",
    "  dv = AVG_WPM, \n",
    "  wid = PARTICIPANT_ID, \n",
    "  within = CONDITION\n",
    ") %>%\n",
    "get_anova_table() %>%\n",
    "adjust_pvalue(method = \"bonferroni\")\n",
    "one.way_wpm_2\n",
    "\n",
    "\n",
    "one.way_wpm_2 %>%\n",
    "as.data.frame %>%\n",
    "stargazer(summary = FALSE)"
   ]
  },
  {
   "cell_type": "markdown",
   "metadata": {},
   "source": [
    "#### Pairwise comparisions"
   ]
  },
  {
   "cell_type": "markdown",
   "metadata": {},
   "source": [
    "##### Pairwise comparisons between EXPERIENCE levels"
   ]
  },
  {
   "cell_type": "code",
   "execution_count": 16,
   "metadata": {},
   "outputs": [
    {
     "data": {
      "text/html": [
       "<table>\n",
       "<thead><tr><th scope=col>CONDITION</th><th scope=col>.y.</th><th scope=col>group1</th><th scope=col>group2</th><th scope=col>n1</th><th scope=col>n2</th><th scope=col>p</th><th scope=col>p.signif</th><th scope=col>p.adj</th><th scope=col>p.adj.signif</th></tr></thead>\n",
       "<tbody>\n",
       "\t<tr><td>enhanced</td><td>AVG_WPM </td><td>no      </td><td>yes     </td><td>10      </td><td>10      </td><td>7.30e-03</td><td>**      </td><td>7.30e-03</td><td>**      </td></tr>\n",
       "\t<tr><td>normal  </td><td>AVG_WPM </td><td>no      </td><td>yes     </td><td>10      </td><td>10      </td><td>1.18e-02</td><td>*       </td><td>1.18e-02</td><td>*       </td></tr>\n",
       "\t<tr><td>off     </td><td>AVG_WPM </td><td>no      </td><td>yes     </td><td>10      </td><td>10      </td><td>1.78e-05</td><td>****    </td><td>1.78e-05</td><td>****    </td></tr>\n",
       "</tbody>\n",
       "</table>\n"
      ],
      "text/latex": [
       "\\begin{tabular}{r|llllllllll}\n",
       " CONDITION & .y. & group1 & group2 & n1 & n2 & p & p.signif & p.adj & p.adj.signif\\\\\n",
       "\\hline\n",
       "\t enhanced  & AVG\\_WPM & no        & yes       & 10        & 10        & 7.30e-03  & **        & 7.30e-03  & **       \\\\\n",
       "\t normal    & AVG\\_WPM & no        & yes       & 10        & 10        & 1.18e-02  & *         & 1.18e-02  & *        \\\\\n",
       "\t off       & AVG\\_WPM & no        & yes       & 10        & 10        & 1.78e-05  & ****      & 1.78e-05  & ****     \\\\\n",
       "\\end{tabular}\n"
      ],
      "text/markdown": [
       "\n",
       "| CONDITION | .y. | group1 | group2 | n1 | n2 | p | p.signif | p.adj | p.adj.signif |\n",
       "|---|---|---|---|---|---|---|---|---|---|\n",
       "| enhanced | AVG_WPM  | no       | yes      | 10       | 10       | 7.30e-03 | **       | 7.30e-03 | **       |\n",
       "| normal   | AVG_WPM  | no       | yes      | 10       | 10       | 1.18e-02 | *        | 1.18e-02 | *        |\n",
       "| off      | AVG_WPM  | no       | yes      | 10       | 10       | 1.78e-05 | ****     | 1.78e-05 | ****     |\n",
       "\n"
      ],
      "text/plain": [
       "  CONDITION .y.     group1 group2 n1 n2 p        p.signif p.adj    p.adj.signif\n",
       "1 enhanced  AVG_WPM no     yes    10 10 7.30e-03 **       7.30e-03 **          \n",
       "2 normal    AVG_WPM no     yes    10 10 1.18e-02 *        1.18e-02 *           \n",
       "3 off       AVG_WPM no     yes    10 10 1.78e-05 ****     1.78e-05 ****        "
      ]
     },
     "metadata": {},
     "output_type": "display_data"
    }
   ],
   "source": [
    "pwc_wpm <- tests %>%\n",
    "group_by(CONDITION) %>%\n",
    "pairwise_t_test(\n",
    "  AVG_WPM ~ EXPERIENCED, \n",
    "  p.adjust.method = \"bonferroni\"\n",
    ")\n",
    "pwc_wpm"
   ]
  },
  {
   "cell_type": "code",
   "execution_count": 17,
   "metadata": {},
   "outputs": [
    {
     "data": {
      "text/html": [
       "<table>\n",
       "<thead><tr><th scope=col>EXPERIENCED</th><th scope=col>.y.</th><th scope=col>group1</th><th scope=col>group2</th><th scope=col>n1</th><th scope=col>n2</th><th scope=col>p.adj</th><th scope=col>p.adj.signif</th></tr></thead>\n",
       "<tbody>\n",
       "\t<tr><td>no      </td><td>AVG_WPM </td><td>enhanced</td><td>normal  </td><td>10      </td><td>10      </td><td>1.000   </td><td>ns      </td></tr>\n",
       "\t<tr><td>no      </td><td>AVG_WPM </td><td>enhanced</td><td>off     </td><td>10      </td><td>10      </td><td>0.200   </td><td>ns      </td></tr>\n",
       "\t<tr><td>no      </td><td>AVG_WPM </td><td>normal  </td><td>off     </td><td>10      </td><td>10      </td><td>0.744   </td><td>ns      </td></tr>\n",
       "\t<tr><td>yes     </td><td>AVG_WPM </td><td>enhanced</td><td>normal  </td><td>10      </td><td>10      </td><td>1.000   </td><td>ns      </td></tr>\n",
       "\t<tr><td>yes     </td><td>AVG_WPM </td><td>enhanced</td><td>off     </td><td>10      </td><td>10      </td><td>0.050   </td><td>*       </td></tr>\n",
       "\t<tr><td>yes     </td><td>AVG_WPM </td><td>normal  </td><td>off     </td><td>10      </td><td>10      </td><td>0.081   </td><td>ns      </td></tr>\n",
       "</tbody>\n",
       "</table>\n"
      ],
      "text/latex": [
       "\\begin{tabular}{r|llllllll}\n",
       " EXPERIENCED & .y. & group1 & group2 & n1 & n2 & p.adj & p.adj.signif\\\\\n",
       "\\hline\n",
       "\t no        & AVG\\_WPM & enhanced  & normal    & 10        & 10        & 1.000     & ns       \\\\\n",
       "\t no        & AVG\\_WPM & enhanced  & off       & 10        & 10        & 0.200     & ns       \\\\\n",
       "\t no        & AVG\\_WPM & normal    & off       & 10        & 10        & 0.744     & ns       \\\\\n",
       "\t yes       & AVG\\_WPM & enhanced  & normal    & 10        & 10        & 1.000     & ns       \\\\\n",
       "\t yes       & AVG\\_WPM & enhanced  & off       & 10        & 10        & 0.050     & *        \\\\\n",
       "\t yes       & AVG\\_WPM & normal    & off       & 10        & 10        & 0.081     & ns       \\\\\n",
       "\\end{tabular}\n"
      ],
      "text/markdown": [
       "\n",
       "| EXPERIENCED | .y. | group1 | group2 | n1 | n2 | p.adj | p.adj.signif |\n",
       "|---|---|---|---|---|---|---|---|\n",
       "| no       | AVG_WPM  | enhanced | normal   | 10       | 10       | 1.000    | ns       |\n",
       "| no       | AVG_WPM  | enhanced | off      | 10       | 10       | 0.200    | ns       |\n",
       "| no       | AVG_WPM  | normal   | off      | 10       | 10       | 0.744    | ns       |\n",
       "| yes      | AVG_WPM  | enhanced | normal   | 10       | 10       | 1.000    | ns       |\n",
       "| yes      | AVG_WPM  | enhanced | off      | 10       | 10       | 0.050    | *        |\n",
       "| yes      | AVG_WPM  | normal   | off      | 10       | 10       | 0.081    | ns       |\n",
       "\n"
      ],
      "text/plain": [
       "  EXPERIENCED .y.     group1   group2 n1 n2 p.adj p.adj.signif\n",
       "1 no          AVG_WPM enhanced normal 10 10 1.000 ns          \n",
       "2 no          AVG_WPM enhanced off    10 10 0.200 ns          \n",
       "3 no          AVG_WPM normal   off    10 10 0.744 ns          \n",
       "4 yes         AVG_WPM enhanced normal 10 10 1.000 ns          \n",
       "5 yes         AVG_WPM enhanced off    10 10 0.050 *           \n",
       "6 yes         AVG_WPM normal   off    10 10 0.081 ns          "
      ]
     },
     "metadata": {},
     "output_type": "display_data"
    }
   ],
   "source": [
    "# Paired t-test is used because we have repeated measures by time\n",
    "pwc_wpm_2 <- tests %>%\n",
    "group_by(EXPERIENCED) %>%\n",
    "pairwise_t_test(\n",
    "    AVG_WPM ~ CONDITION, \n",
    "    paired = TRUE, \n",
    "    p.adjust.method = \"bonferroni\"\n",
    ") %>%\n",
    "select(-df, -statistic, -p) # Remove details\n",
    "pwc_wpm_2"
   ]
  },
  {
   "cell_type": "code",
   "execution_count": 18,
   "metadata": {},
   "outputs": [
    {
     "data": {
      "text/html": [
       "<table>\n",
       "<thead><tr><th scope=col>.y.</th><th scope=col>group1</th><th scope=col>group2</th><th scope=col>n1</th><th scope=col>n2</th><th scope=col>statistic</th><th scope=col>df</th><th scope=col>p</th><th scope=col>p.adj</th><th scope=col>p.adj.signif</th></tr></thead>\n",
       "<tbody>\n",
       "\t<tr><td>AVG_WPM    </td><td>enhanced   </td><td>normal     </td><td>20         </td><td>20         </td><td> 0.04364308</td><td>19         </td><td>0.966      </td><td>1.000      </td><td>ns         </td></tr>\n",
       "\t<tr><td>AVG_WPM    </td><td>enhanced   </td><td>off        </td><td>20         </td><td>20         </td><td>-1.81894720</td><td>19         </td><td>0.085      </td><td>0.254      </td><td>ns         </td></tr>\n",
       "\t<tr><td>AVG_WPM    </td><td>normal     </td><td>off        </td><td>20         </td><td>20         </td><td>-2.00700417</td><td>19         </td><td>0.059      </td><td>0.178      </td><td>ns         </td></tr>\n",
       "</tbody>\n",
       "</table>\n"
      ],
      "text/latex": [
       "\\begin{tabular}{r|llllllllll}\n",
       " .y. & group1 & group2 & n1 & n2 & statistic & df & p & p.adj & p.adj.signif\\\\\n",
       "\\hline\n",
       "\t AVG\\_WPM   & enhanced    & normal      & 20          & 20          &  0.04364308 & 19          & 0.966       & 1.000       & ns         \\\\\n",
       "\t AVG\\_WPM   & enhanced    & off         & 20          & 20          & -1.81894720 & 19          & 0.085       & 0.254       & ns         \\\\\n",
       "\t AVG\\_WPM   & normal      & off         & 20          & 20          & -2.00700417 & 19          & 0.059       & 0.178       & ns         \\\\\n",
       "\\end{tabular}\n"
      ],
      "text/markdown": [
       "\n",
       "| .y. | group1 | group2 | n1 | n2 | statistic | df | p | p.adj | p.adj.signif |\n",
       "|---|---|---|---|---|---|---|---|---|---|\n",
       "| AVG_WPM     | enhanced    | normal      | 20          | 20          |  0.04364308 | 19          | 0.966       | 1.000       | ns          |\n",
       "| AVG_WPM     | enhanced    | off         | 20          | 20          | -1.81894720 | 19          | 0.085       | 0.254       | ns          |\n",
       "| AVG_WPM     | normal      | off         | 20          | 20          | -2.00700417 | 19          | 0.059       | 0.178       | ns          |\n",
       "\n"
      ],
      "text/plain": [
       "  .y.     group1   group2 n1 n2 statistic   df p     p.adj p.adj.signif\n",
       "1 AVG_WPM enhanced normal 20 20  0.04364308 19 0.966 1.000 ns          \n",
       "2 AVG_WPM enhanced off    20 20 -1.81894720 19 0.085 0.254 ns          \n",
       "3 AVG_WPM normal   off    20 20 -2.00700417 19 0.059 0.178 ns          "
      ]
     },
     "metadata": {},
     "output_type": "display_data"
    }
   ],
   "source": [
    "pwc_wpm_condition <- tests %>%\n",
    "pairwise_t_test(\n",
    "    AVG_WPM ~ CONDITION, \n",
    "    paired = TRUE, \n",
    "    p.adjust.method = \"bonferroni\"\n",
    ")\n",
    "pwc_wpm_condition"
   ]
  },
  {
   "cell_type": "code",
   "execution_count": 19,
   "metadata": {},
   "outputs": [
    {
     "data": {
      "text/html": [
       "<table>\n",
       "<thead><tr><th scope=col>.y.</th><th scope=col>group1</th><th scope=col>group2</th><th scope=col>n1</th><th scope=col>n2</th><th scope=col>p</th><th scope=col>p.signif</th><th scope=col>p.adj</th><th scope=col>p.adj.signif</th></tr></thead>\n",
       "<tbody>\n",
       "\t<tr><td>AVG_WPM </td><td>no      </td><td>yes     </td><td>30      </td><td>30      </td><td>1.03e-07</td><td>****    </td><td>1.03e-07</td><td>****    </td></tr>\n",
       "</tbody>\n",
       "</table>\n"
      ],
      "text/latex": [
       "\\begin{tabular}{r|lllllllll}\n",
       " .y. & group1 & group2 & n1 & n2 & p & p.signif & p.adj & p.adj.signif\\\\\n",
       "\\hline\n",
       "\t AVG\\_WPM & no        & yes       & 30        & 30        & 1.03e-07  & ****      & 1.03e-07  & ****     \\\\\n",
       "\\end{tabular}\n"
      ],
      "text/markdown": [
       "\n",
       "| .y. | group1 | group2 | n1 | n2 | p | p.signif | p.adj | p.adj.signif |\n",
       "|---|---|---|---|---|---|---|---|---|\n",
       "| AVG_WPM  | no       | yes      | 30       | 30       | 1.03e-07 | ****     | 1.03e-07 | ****     |\n",
       "\n"
      ],
      "text/plain": [
       "  .y.     group1 group2 n1 n2 p        p.signif p.adj    p.adj.signif\n",
       "1 AVG_WPM no     yes    30 30 1.03e-07 ****     1.03e-07 ****        "
      ]
     },
     "metadata": {},
     "output_type": "display_data"
    }
   ],
   "source": [
    "tests %>%\n",
    "pairwise_t_test(\n",
    "    AVG_WPM ~ EXPERIENCED,  \n",
    "    p.adjust.method = \"bonferroni\"\n",
    ")"
   ]
  },
  {
   "cell_type": "markdown",
   "metadata": {},
   "source": [
    "#### Visualisation:"
   ]
  },
  {
   "cell_type": "code",
   "execution_count": 20,
   "metadata": {},
   "outputs": [
    {
     "data": {
      "image/png": "[encoded data removed]",
      "text/plain": [
       "plot without title"
      ]
     },
     "metadata": {},
     "output_type": "display_data"
    }
   ],
   "source": [
    "bxp_wpm_two_mix_anova <- tests %>%\n",
    "rename(\"WPM\" = AVG_WPM) %>%\n",
    "ggboxplot( \n",
    "    x = \"CONDITION\",\n",
    "    y = \"WPM\",\n",
    "    color = \"EXPERIENCED\", \n",
    "    palette = \"jco\"\n",
    ")\n",
    "\n",
    "pwc_wpm <- pwc_wpm %>% add_xy_position(x = \"CONDITION\")\n",
    "\n",
    "pwc_wpm.filtered <- pwc_wpm %>% filter()\n",
    "\n",
    "bxp_wpm_two_mix_anova <- bxp_wpm_two_mix_anova + \n",
    "stat_pvalue_manual(\n",
    "    pwc_wpm.filtered, \n",
    "    tip.length = 0, \n",
    "    hide.ns = TRUE\n",
    ") +\n",
    "labs(\n",
    "    subtitle = get_test_label(res.aov_wpm, detailed = TRUE),\n",
    "    caption = get_pwc_label(pwc_wpm)\n",
    ")\n",
    "\n",
    "bxp_wpm_two_mix_anova\n",
    "\n",
    "ggsave(\"boxplot_wpm_two_mix_anova.png\", bxp_wpm_two_mix_anova, width = 4, height = 4)"
   ]
  },
  {
   "cell_type": "markdown",
   "metadata": {},
   "source": [
    "## Error Rate"
   ]
  },
  {
   "cell_type": "code",
   "execution_count": 21,
   "metadata": {},
   "outputs": [
    {
     "data": {
      "image/png": "[encoded data removed]",
      "text/plain": [
       "plot without title"
      ]
     },
     "metadata": {},
     "output_type": "display_data"
    }
   ],
   "source": [
    "tests %>%\n",
    "ggboxplot(\n",
    "    x = \"CONDITION\", \n",
    "    y = \"AVG_T_ER\",\n",
    "    color = \"EXPERIENCED\", \n",
    "    palette = \"jco\"\n",
    "  )"
   ]
  },
  {
   "cell_type": "markdown",
   "metadata": {},
   "source": [
    "##### Outliers"
   ]
  },
  {
   "cell_type": "code",
   "execution_count": 22,
   "metadata": {},
   "outputs": [
    {
     "data": {
      "text/html": [
       "<table>\n",
       "<thead><tr><th scope=col>CONDITION</th><th scope=col>EXPERIENCED</th><th scope=col>PARTICIPANT_ID</th><th scope=col>TEST_ID</th><th scope=col>AVG_T_ER</th><th scope=col>is.outlier</th><th scope=col>is.extreme</th></tr></thead>\n",
       "<tbody>\n",
       "\t<tr><td>enhanced            </td><td>yes                 </td><td>42Qb5LyAPE3NXNdu3AAl</td><td>3fZGwPAVXinG5GYhdfsA</td><td>11.1470141          </td><td>TRUE                </td><td>FALSE               </td></tr>\n",
       "\t<tr><td>enhanced            </td><td>yes                 </td><td>1N8UzywCgZLplZWpjmhN</td><td>TU8mcroSf9FmqtWnlkKp</td><td> 0.6093906          </td><td>TRUE                </td><td>FALSE               </td></tr>\n",
       "\t<tr><td>off                 </td><td>no                  </td><td>9deJ2qtKLvuqMc8ktWe9</td><td>CELVAbGvszq64RSpcTFd</td><td>20.1630713          </td><td>TRUE                </td><td>FALSE               </td></tr>\n",
       "</tbody>\n",
       "</table>\n"
      ],
      "text/latex": [
       "\\begin{tabular}{r|lllllll}\n",
       " CONDITION & EXPERIENCED & PARTICIPANT\\_ID & TEST\\_ID & AVG\\_T\\_ER & is.outlier & is.extreme\\\\\n",
       "\\hline\n",
       "\t enhanced             & yes                  & 42Qb5LyAPE3NXNdu3AAl & 3fZGwPAVXinG5GYhdfsA & 11.1470141           & TRUE                 & FALSE               \\\\\n",
       "\t enhanced             & yes                  & 1N8UzywCgZLplZWpjmhN & TU8mcroSf9FmqtWnlkKp &  0.6093906           & TRUE                 & FALSE               \\\\\n",
       "\t off                  & no                   & 9deJ2qtKLvuqMc8ktWe9 & CELVAbGvszq64RSpcTFd & 20.1630713           & TRUE                 & FALSE               \\\\\n",
       "\\end{tabular}\n"
      ],
      "text/markdown": [
       "\n",
       "| CONDITION | EXPERIENCED | PARTICIPANT_ID | TEST_ID | AVG_T_ER | is.outlier | is.extreme |\n",
       "|---|---|---|---|---|---|---|\n",
       "| enhanced             | yes                  | 42Qb5LyAPE3NXNdu3AAl | 3fZGwPAVXinG5GYhdfsA | 11.1470141           | TRUE                 | FALSE                |\n",
       "| enhanced             | yes                  | 1N8UzywCgZLplZWpjmhN | TU8mcroSf9FmqtWnlkKp |  0.6093906           | TRUE                 | FALSE                |\n",
       "| off                  | no                   | 9deJ2qtKLvuqMc8ktWe9 | CELVAbGvszq64RSpcTFd | 20.1630713           | TRUE                 | FALSE                |\n",
       "\n"
      ],
      "text/plain": [
       "  CONDITION EXPERIENCED PARTICIPANT_ID       TEST_ID              AVG_T_ER  \n",
       "1 enhanced  yes         42Qb5LyAPE3NXNdu3AAl 3fZGwPAVXinG5GYhdfsA 11.1470141\n",
       "2 enhanced  yes         1N8UzywCgZLplZWpjmhN TU8mcroSf9FmqtWnlkKp  0.6093906\n",
       "3 off       no          9deJ2qtKLvuqMc8ktWe9 CELVAbGvszq64RSpcTFd 20.1630713\n",
       "  is.outlier is.extreme\n",
       "1 TRUE       FALSE     \n",
       "2 TRUE       FALSE     \n",
       "3 TRUE       FALSE     "
      ]
     },
     "metadata": {},
     "output_type": "display_data"
    }
   ],
   "source": [
    "tests %>%\n",
    "select(PARTICIPANT_ID, TEST_ID, CONDITION, EXPERIENCED, AVG_T_ER) %>%\n",
    "group_by(CONDITION, EXPERIENCED) %>%\n",
    "identify_outliers(AVG_T_ER)"
   ]
  },
  {
   "cell_type": "markdown",
   "metadata": {},
   "source": [
    "##### Normality Assumption"
   ]
  },
  {
   "cell_type": "code",
   "execution_count": 23,
   "metadata": {},
   "outputs": [
    {
     "data": {
      "text/html": [
       "<table>\n",
       "<thead><tr><th scope=col>CONDITION</th><th scope=col>EXPERIENCED</th><th scope=col>variable</th><th scope=col>statistic</th><th scope=col>p</th></tr></thead>\n",
       "<tbody>\n",
       "\t<tr><td>enhanced  </td><td>no        </td><td>AVG_T_ER  </td><td>0.8903750 </td><td>0.17123304</td></tr>\n",
       "\t<tr><td>enhanced  </td><td>yes       </td><td>AVG_T_ER  </td><td>0.9537442 </td><td>0.71286297</td></tr>\n",
       "\t<tr><td>normal    </td><td>no        </td><td>AVG_T_ER  </td><td>0.9439723 </td><td>0.59799799</td></tr>\n",
       "\t<tr><td>normal    </td><td>yes       </td><td>AVG_T_ER  </td><td>0.9383574 </td><td>0.53488512</td></tr>\n",
       "\t<tr><td>off       </td><td>no        </td><td>AVG_T_ER  </td><td>0.8595624 </td><td>0.07540729</td></tr>\n",
       "\t<tr><td>off       </td><td>yes       </td><td>AVG_T_ER  </td><td>0.8153180 </td><td>0.02224243</td></tr>\n",
       "</tbody>\n",
       "</table>\n"
      ],
      "text/latex": [
       "\\begin{tabular}{r|lllll}\n",
       " CONDITION & EXPERIENCED & variable & statistic & p\\\\\n",
       "\\hline\n",
       "\t enhanced     & no           & AVG\\_T\\_ER & 0.8903750    & 0.17123304  \\\\\n",
       "\t enhanced     & yes          & AVG\\_T\\_ER & 0.9537442    & 0.71286297  \\\\\n",
       "\t normal       & no           & AVG\\_T\\_ER & 0.9439723    & 0.59799799  \\\\\n",
       "\t normal       & yes          & AVG\\_T\\_ER & 0.9383574    & 0.53488512  \\\\\n",
       "\t off          & no           & AVG\\_T\\_ER & 0.8595624    & 0.07540729  \\\\\n",
       "\t off          & yes          & AVG\\_T\\_ER & 0.8153180    & 0.02224243  \\\\\n",
       "\\end{tabular}\n"
      ],
      "text/markdown": [
       "\n",
       "| CONDITION | EXPERIENCED | variable | statistic | p |\n",
       "|---|---|---|---|---|\n",
       "| enhanced   | no         | AVG_T_ER   | 0.8903750  | 0.17123304 |\n",
       "| enhanced   | yes        | AVG_T_ER   | 0.9537442  | 0.71286297 |\n",
       "| normal     | no         | AVG_T_ER   | 0.9439723  | 0.59799799 |\n",
       "| normal     | yes        | AVG_T_ER   | 0.9383574  | 0.53488512 |\n",
       "| off        | no         | AVG_T_ER   | 0.8595624  | 0.07540729 |\n",
       "| off        | yes        | AVG_T_ER   | 0.8153180  | 0.02224243 |\n",
       "\n"
      ],
      "text/plain": [
       "  CONDITION EXPERIENCED variable statistic p         \n",
       "1 enhanced  no          AVG_T_ER 0.8903750 0.17123304\n",
       "2 enhanced  yes         AVG_T_ER 0.9537442 0.71286297\n",
       "3 normal    no          AVG_T_ER 0.9439723 0.59799799\n",
       "4 normal    yes         AVG_T_ER 0.9383574 0.53488512\n",
       "5 off       no          AVG_T_ER 0.8595624 0.07540729\n",
       "6 off       yes         AVG_T_ER 0.8153180 0.02224243"
      ]
     },
     "metadata": {},
     "output_type": "display_data"
    }
   ],
   "source": [
    "tests %>%\n",
    "group_by(CONDITION, EXPERIENCED) %>%\n",
    "shapiro_test(AVG_T_ER)"
   ]
  },
  {
   "cell_type": "code",
   "execution_count": 24,
   "metadata": {},
   "outputs": [
    {
     "data": {
      "image/png": "[encoded data removed]",
      "text/plain": [
       "plot without title"
      ]
     },
     "metadata": {},
     "output_type": "display_data"
    }
   ],
   "source": [
    "ggqqplot(tests, \"AVG_T_ER\", ggtheme = theme_bw()) +\n",
    "  facet_grid(CONDITION ~ EXPERIENCED)"
   ]
  },
  {
   "cell_type": "markdown",
   "metadata": {},
   "source": [
    "### Computation"
   ]
  },
  {
   "cell_type": "code",
   "execution_count": 25,
   "metadata": {},
   "outputs": [
    {
     "data": {
      "text/html": [
       "<table>\n",
       "<thead><tr><th scope=col>Effect</th><th scope=col>DFn</th><th scope=col>DFd</th><th scope=col>F</th><th scope=col>p</th><th scope=col>p&lt;.05</th><th scope=col>ges</th></tr></thead>\n",
       "<tbody>\n",
       "\t<tr><td>EXPERIENCED          </td><td>1                    </td><td>18                   </td><td>0.172                </td><td>0.683                </td><td>                     </td><td>0.006                </td></tr>\n",
       "\t<tr><td>CONDITION            </td><td>2                    </td><td>36                   </td><td>0.141                </td><td>0.869                </td><td>                     </td><td>0.003                </td></tr>\n",
       "\t<tr><td>EXPERIENCED:CONDITION</td><td>2                    </td><td>36                   </td><td>0.939                </td><td>0.400                </td><td>                     </td><td>0.021                </td></tr>\n",
       "</tbody>\n",
       "</table>\n"
      ],
      "text/latex": [
       "\\begin{tabular}{r|lllllll}\n",
       " Effect & DFn & DFd & F & p & p<.05 & ges\\\\\n",
       "\\hline\n",
       "\t EXPERIENCED           & 1                     & 18                    & 0.172                 & 0.683                 &                       & 0.006                \\\\\n",
       "\t CONDITION             & 2                     & 36                    & 0.141                 & 0.869                 &                       & 0.003                \\\\\n",
       "\t EXPERIENCED:CONDITION & 2                     & 36                    & 0.939                 & 0.400                 &                       & 0.021                \\\\\n",
       "\\end{tabular}\n"
      ],
      "text/markdown": [
       "\n",
       "| Effect | DFn | DFd | F | p | p<.05 | ges |\n",
       "|---|---|---|---|---|---|---|\n",
       "| EXPERIENCED           | 1                     | 18                    | 0.172                 | 0.683                 |                       | 0.006                 |\n",
       "| CONDITION             | 2                     | 36                    | 0.141                 | 0.869                 |                       | 0.003                 |\n",
       "| EXPERIENCED:CONDITION | 2                     | 36                    | 0.939                 | 0.400                 |                       | 0.021                 |\n",
       "\n"
      ],
      "text/plain": [
       "  Effect                DFn DFd F     p     p<.05 ges  \n",
       "1 EXPERIENCED           1   18  0.172 0.683       0.006\n",
       "2 CONDITION             2   36  0.141 0.869       0.003\n",
       "3 EXPERIENCED:CONDITION 2   36  0.939 0.400       0.021"
      ]
     },
     "metadata": {},
     "output_type": "display_data"
    },
    {
     "name": "stdout",
     "output_type": "stream",
     "text": [
      "\n",
      "% Table created by stargazer v.5.2.2 by Marek Hlavac, Harvard University. E-mail: hlavac at fas.harvard.edu\n",
      "% Date and time: Thu, Mar 10, 2022 - 3:34:58 PM\n",
      "\\begin{table}[!htbp] \\centering \n",
      "  \\caption{} \n",
      "  \\label{} \n",
      "\\begin{tabular}{@{\\extracolsep{5pt}} cccccccc} \n",
      "\\\\[-1.8ex]\\hline \n",
      "\\hline \\\\[-1.8ex] \n",
      " & Effect & DFn & DFd & F & p & p\\textless .05 & ges \\\\ \n",
      "\\hline \\\\[-1.8ex] \n",
      "1 & EXPERIENCED & $1$ & $18$ & $0.172$ & $0.683$ &  & $0.006$ \\\\ \n",
      "2 & CONDITION & $2$ & $36$ & $0.141$ & $0.869$ &  & $0.003$ \\\\ \n",
      "3 & EXPERIENCED:CONDITION & $2$ & $36$ & $0.939$ & $0.400$ &  & $0.021$ \\\\ \n",
      "\\hline \\\\[-1.8ex] \n",
      "\\end{tabular} \n",
      "\\end{table} \n"
     ]
    }
   ],
   "source": [
    "res.aov_er <- anova_test(\n",
    "    data = tests,\n",
    "    dv = AVG_T_ER,\n",
    "    wid = PARTICIPANT_ID,\n",
    "    between = EXPERIENCED,\n",
    "    within = CONDITION\n",
    "  )\n",
    "get_anova_table(res.aov_er)\n",
    "\n",
    "\n",
    "res.aov_er$ANOVA %>%\n",
    "stargazer(summary = FALSE)"
   ]
  },
  {
   "cell_type": "markdown",
   "metadata": {},
   "source": [
    "### Pst-hoc tests"
   ]
  },
  {
   "cell_type": "markdown",
   "metadata": {},
   "source": [
    "##### Effect of EXPERIENCE on Total Error Rate at each CONDITION "
   ]
  },
  {
   "cell_type": "code",
   "execution_count": 26,
   "metadata": {},
   "outputs": [
    {
     "name": "stderr",
     "output_type": "stream",
     "text": [
      "Coefficient covariances computed by hccm()\n",
      "Coefficient covariances computed by hccm()\n",
      "Coefficient covariances computed by hccm()\n"
     ]
    },
    {
     "data": {
      "text/html": [
       "<table>\n",
       "<thead><tr><th scope=col>CONDITION</th><th scope=col>Effect</th><th scope=col>DFn</th><th scope=col>DFd</th><th scope=col>F</th><th scope=col>p</th><th scope=col>p&lt;.05</th><th scope=col>ges</th><th scope=col>p.adj</th></tr></thead>\n",
       "<tbody>\n",
       "\t<tr><td>enhanced   </td><td>EXPERIENCED</td><td>1          </td><td>18         </td><td>0.010      </td><td>0.923      </td><td>           </td><td>0.000531   </td><td>1.000      </td></tr>\n",
       "\t<tr><td>normal     </td><td>EXPERIENCED</td><td>1          </td><td>18         </td><td>0.120      </td><td>0.733      </td><td>           </td><td>0.007000   </td><td>1.000      </td></tr>\n",
       "\t<tr><td>off        </td><td>EXPERIENCED</td><td>1          </td><td>18         </td><td>1.099      </td><td>0.308      </td><td>           </td><td>0.058000   </td><td>0.924      </td></tr>\n",
       "</tbody>\n",
       "</table>\n"
      ],
      "text/latex": [
       "\\begin{tabular}{r|lllllllll}\n",
       " CONDITION & Effect & DFn & DFd & F & p & p<.05 & ges & p.adj\\\\\n",
       "\\hline\n",
       "\t enhanced    & EXPERIENCED & 1           & 18          & 0.010       & 0.923       &             & 0.000531    & 1.000      \\\\\n",
       "\t normal      & EXPERIENCED & 1           & 18          & 0.120       & 0.733       &             & 0.007000    & 1.000      \\\\\n",
       "\t off         & EXPERIENCED & 1           & 18          & 1.099       & 0.308       &             & 0.058000    & 0.924      \\\\\n",
       "\\end{tabular}\n"
      ],
      "text/markdown": [
       "\n",
       "| CONDITION | Effect | DFn | DFd | F | p | p<.05 | ges | p.adj |\n",
       "|---|---|---|---|---|---|---|---|---|\n",
       "| enhanced    | EXPERIENCED | 1           | 18          | 0.010       | 0.923       |             | 0.000531    | 1.000       |\n",
       "| normal      | EXPERIENCED | 1           | 18          | 0.120       | 0.733       |             | 0.007000    | 1.000       |\n",
       "| off         | EXPERIENCED | 1           | 18          | 1.099       | 0.308       |             | 0.058000    | 0.924       |\n",
       "\n"
      ],
      "text/plain": [
       "  CONDITION Effect      DFn DFd F     p     p<.05 ges      p.adj\n",
       "1 enhanced  EXPERIENCED 1   18  0.010 0.923       0.000531 1.000\n",
       "2 normal    EXPERIENCED 1   18  0.120 0.733       0.007000 1.000\n",
       "3 off       EXPERIENCED 1   18  1.099 0.308       0.058000 0.924"
      ]
     },
     "metadata": {},
     "output_type": "display_data"
    }
   ],
   "source": [
    "one.way_er <- tests %>%\n",
    "group_by(CONDITION) %>%\n",
    "anova_test(\n",
    "  dv = AVG_T_ER,\n",
    "  wid = PARTICIPANT_ID,\n",
    "  between = EXPERIENCED\n",
    ") %>%\n",
    "get_anova_table() %>%\n",
    "adjust_pvalue(method = \"bonferroni\")\n",
    "one.way_er"
   ]
  },
  {
   "cell_type": "code",
   "execution_count": 27,
   "metadata": {},
   "outputs": [
    {
     "data": {
      "text/html": [
       "<table>\n",
       "<thead><tr><th scope=col>CONDITION</th><th scope=col>.y.</th><th scope=col>group1</th><th scope=col>group2</th><th scope=col>n1</th><th scope=col>n2</th><th scope=col>p</th><th scope=col>p.signif</th><th scope=col>p.adj</th><th scope=col>p.adj.signif</th></tr></thead>\n",
       "<tbody>\n",
       "\t<tr><td>enhanced</td><td>AVG_T_ER</td><td>no      </td><td>yes     </td><td>10      </td><td>10      </td><td>0.923   </td><td>ns      </td><td>0.923   </td><td>ns      </td></tr>\n",
       "\t<tr><td>normal  </td><td>AVG_T_ER</td><td>no      </td><td>yes     </td><td>10      </td><td>10      </td><td>0.733   </td><td>ns      </td><td>0.733   </td><td>ns      </td></tr>\n",
       "\t<tr><td>off     </td><td>AVG_T_ER</td><td>no      </td><td>yes     </td><td>10      </td><td>10      </td><td>0.308   </td><td>ns      </td><td>0.308   </td><td>ns      </td></tr>\n",
       "</tbody>\n",
       "</table>\n"
      ],
      "text/latex": [
       "\\begin{tabular}{r|llllllllll}\n",
       " CONDITION & .y. & group1 & group2 & n1 & n2 & p & p.signif & p.adj & p.adj.signif\\\\\n",
       "\\hline\n",
       "\t enhanced     & AVG\\_T\\_ER & no           & yes          & 10           & 10           & 0.923        & ns           & 0.923        & ns          \\\\\n",
       "\t normal       & AVG\\_T\\_ER & no           & yes          & 10           & 10           & 0.733        & ns           & 0.733        & ns          \\\\\n",
       "\t off          & AVG\\_T\\_ER & no           & yes          & 10           & 10           & 0.308        & ns           & 0.308        & ns          \\\\\n",
       "\\end{tabular}\n"
      ],
      "text/markdown": [
       "\n",
       "| CONDITION | .y. | group1 | group2 | n1 | n2 | p | p.signif | p.adj | p.adj.signif |\n",
       "|---|---|---|---|---|---|---|---|---|---|\n",
       "| enhanced | AVG_T_ER | no       | yes      | 10       | 10       | 0.923    | ns       | 0.923    | ns       |\n",
       "| normal   | AVG_T_ER | no       | yes      | 10       | 10       | 0.733    | ns       | 0.733    | ns       |\n",
       "| off      | AVG_T_ER | no       | yes      | 10       | 10       | 0.308    | ns       | 0.308    | ns       |\n",
       "\n"
      ],
      "text/plain": [
       "  CONDITION .y.      group1 group2 n1 n2 p     p.signif p.adj p.adj.signif\n",
       "1 enhanced  AVG_T_ER no     yes    10 10 0.923 ns       0.923 ns          \n",
       "2 normal    AVG_T_ER no     yes    10 10 0.733 ns       0.733 ns          \n",
       "3 off       AVG_T_ER no     yes    10 10 0.308 ns       0.308 ns          "
      ]
     },
     "metadata": {},
     "output_type": "display_data"
    }
   ],
   "source": [
    "pwc_er <- tests %>%\n",
    "group_by(CONDITION) %>%\n",
    "pairwise_t_test(\n",
    "    AVG_T_ER ~ EXPERIENCED, \n",
    "    p.adjust.method = \"bonferroni\"\n",
    ")\n",
    "pwc_er"
   ]
  },
  {
   "cell_type": "markdown",
   "metadata": {},
   "source": [
    "##### Effect of CONDITION on Total Error Rate at each level of EXPERIENCE"
   ]
  },
  {
   "cell_type": "code",
   "execution_count": 28,
   "metadata": {},
   "outputs": [
    {
     "data": {
      "text/html": [
       "<table>\n",
       "<thead><tr><th scope=col>EXPERIENCED</th><th scope=col>Effect</th><th scope=col>DFn</th><th scope=col>DFd</th><th scope=col>F</th><th scope=col>p</th><th scope=col>p&lt;.05</th><th scope=col>ges</th><th scope=col>p.adj</th></tr></thead>\n",
       "<tbody>\n",
       "\t<tr><td>no       </td><td>CONDITION</td><td>2        </td><td>18       </td><td>0.543    </td><td>0.590    </td><td>         </td><td>0.025    </td><td>1        </td></tr>\n",
       "\t<tr><td>yes      </td><td>CONDITION</td><td>2        </td><td>18       </td><td>0.532    </td><td>0.597    </td><td>         </td><td>0.023    </td><td>1        </td></tr>\n",
       "</tbody>\n",
       "</table>\n"
      ],
      "text/latex": [
       "\\begin{tabular}{r|lllllllll}\n",
       " EXPERIENCED & Effect & DFn & DFd & F & p & p<.05 & ges & p.adj\\\\\n",
       "\\hline\n",
       "\t no        & CONDITION & 2         & 18        & 0.543     & 0.590     &           & 0.025     & 1        \\\\\n",
       "\t yes       & CONDITION & 2         & 18        & 0.532     & 0.597     &           & 0.023     & 1        \\\\\n",
       "\\end{tabular}\n"
      ],
      "text/markdown": [
       "\n",
       "| EXPERIENCED | Effect | DFn | DFd | F | p | p<.05 | ges | p.adj |\n",
       "|---|---|---|---|---|---|---|---|---|\n",
       "| no        | CONDITION | 2         | 18        | 0.543     | 0.590     |           | 0.025     | 1         |\n",
       "| yes       | CONDITION | 2         | 18        | 0.532     | 0.597     |           | 0.023     | 1         |\n",
       "\n"
      ],
      "text/plain": [
       "  EXPERIENCED Effect    DFn DFd F     p     p<.05 ges   p.adj\n",
       "1 no          CONDITION 2   18  0.543 0.590       0.025 1    \n",
       "2 yes         CONDITION 2   18  0.532 0.597       0.023 1    "
      ]
     },
     "metadata": {},
     "output_type": "display_data"
    }
   ],
   "source": [
    "one.way_er_2 <- tests %>%\n",
    "  group_by(EXPERIENCED) %>%\n",
    "  anova_test(\n",
    "      dv = AVG_T_ER, \n",
    "      wid = PARTICIPANT_ID, \n",
    "      within = CONDITION\n",
    "  ) %>%\n",
    "  get_anova_table() %>%\n",
    "  adjust_pvalue(method = \"bonferroni\")\n",
    "one.way_er_2"
   ]
  },
  {
   "cell_type": "code",
   "execution_count": 29,
   "metadata": {},
   "outputs": [
    {
     "data": {
      "text/html": [
       "<table>\n",
       "<thead><tr><th scope=col>EXPERIENCED</th><th scope=col>.y.</th><th scope=col>group1</th><th scope=col>group2</th><th scope=col>n1</th><th scope=col>n2</th><th scope=col>p.adj</th><th scope=col>p.adj.signif</th></tr></thead>\n",
       "<tbody>\n",
       "\t<tr><td>no      </td><td>AVG_T_ER</td><td>enhanced</td><td>normal  </td><td>10      </td><td>10      </td><td>1       </td><td>ns      </td></tr>\n",
       "\t<tr><td>no      </td><td>AVG_T_ER</td><td>enhanced</td><td>off     </td><td>10      </td><td>10      </td><td>1       </td><td>ns      </td></tr>\n",
       "\t<tr><td>no      </td><td>AVG_T_ER</td><td>normal  </td><td>off     </td><td>10      </td><td>10      </td><td>1       </td><td>ns      </td></tr>\n",
       "\t<tr><td>yes     </td><td>AVG_T_ER</td><td>enhanced</td><td>normal  </td><td>10      </td><td>10      </td><td>1       </td><td>ns      </td></tr>\n",
       "\t<tr><td>yes     </td><td>AVG_T_ER</td><td>enhanced</td><td>off     </td><td>10      </td><td>10      </td><td>1       </td><td>ns      </td></tr>\n",
       "\t<tr><td>yes     </td><td>AVG_T_ER</td><td>normal  </td><td>off     </td><td>10      </td><td>10      </td><td>1       </td><td>ns      </td></tr>\n",
       "</tbody>\n",
       "</table>\n"
      ],
      "text/latex": [
       "\\begin{tabular}{r|llllllll}\n",
       " EXPERIENCED & .y. & group1 & group2 & n1 & n2 & p.adj & p.adj.signif\\\\\n",
       "\\hline\n",
       "\t no           & AVG\\_T\\_ER & enhanced     & normal       & 10           & 10           & 1            & ns          \\\\\n",
       "\t no           & AVG\\_T\\_ER & enhanced     & off          & 10           & 10           & 1            & ns          \\\\\n",
       "\t no           & AVG\\_T\\_ER & normal       & off          & 10           & 10           & 1            & ns          \\\\\n",
       "\t yes          & AVG\\_T\\_ER & enhanced     & normal       & 10           & 10           & 1            & ns          \\\\\n",
       "\t yes          & AVG\\_T\\_ER & enhanced     & off          & 10           & 10           & 1            & ns          \\\\\n",
       "\t yes          & AVG\\_T\\_ER & normal       & off          & 10           & 10           & 1            & ns          \\\\\n",
       "\\end{tabular}\n"
      ],
      "text/markdown": [
       "\n",
       "| EXPERIENCED | .y. | group1 | group2 | n1 | n2 | p.adj | p.adj.signif |\n",
       "|---|---|---|---|---|---|---|---|\n",
       "| no       | AVG_T_ER | enhanced | normal   | 10       | 10       | 1        | ns       |\n",
       "| no       | AVG_T_ER | enhanced | off      | 10       | 10       | 1        | ns       |\n",
       "| no       | AVG_T_ER | normal   | off      | 10       | 10       | 1        | ns       |\n",
       "| yes      | AVG_T_ER | enhanced | normal   | 10       | 10       | 1        | ns       |\n",
       "| yes      | AVG_T_ER | enhanced | off      | 10       | 10       | 1        | ns       |\n",
       "| yes      | AVG_T_ER | normal   | off      | 10       | 10       | 1        | ns       |\n",
       "\n"
      ],
      "text/plain": [
       "  EXPERIENCED .y.      group1   group2 n1 n2 p.adj p.adj.signif\n",
       "1 no          AVG_T_ER enhanced normal 10 10 1     ns          \n",
       "2 no          AVG_T_ER enhanced off    10 10 1     ns          \n",
       "3 no          AVG_T_ER normal   off    10 10 1     ns          \n",
       "4 yes         AVG_T_ER enhanced normal 10 10 1     ns          \n",
       "5 yes         AVG_T_ER enhanced off    10 10 1     ns          \n",
       "6 yes         AVG_T_ER normal   off    10 10 1     ns          "
      ]
     },
     "metadata": {},
     "output_type": "display_data"
    }
   ],
   "source": [
    "# Paired t-test is used because we have repeated measures by CONDITION\n",
    "pwc_er_2 <- tests %>%\n",
    "  group_by(EXPERIENCED) %>%\n",
    "  pairwise_t_test(\n",
    "      AVG_T_ER ~ CONDITION, \n",
    "      paired = TRUE, \n",
    "      p.adjust.method = \"bonferroni\"\n",
    "  ) %>%\n",
    "  select(-df, -statistic, -p) # Remove details\n",
    "pwc_er_2"
   ]
  },
  {
   "cell_type": "markdown",
   "metadata": {},
   "source": [
    "### Visualisation:"
   ]
  },
  {
   "cell_type": "code",
   "execution_count": 30,
   "metadata": {},
   "outputs": [
    {
     "data": {
      "image/png": "[encoded data removed]",
      "text/plain": [
       "plot without title"
      ]
     },
     "metadata": {},
     "output_type": "display_data"
    }
   ],
   "source": [
    "bxp_er <- tests %>%\n",
    "rename(\"Total Error Rate\" = AVG_T_ER) %>%\n",
    "ggboxplot(\n",
    "    x = \"CONDITION\",\n",
    "    y = \"Total Error Rate\",\n",
    "    color = \"EXPERIENCED\", \n",
    "    palette = \"jco\"\n",
    ")\n",
    "\n",
    "pwc_er <- pwc_er %>% add_xy_position(x = \"CONDITION\")\n",
    "\n",
    "bxp_er <- bxp_er + \n",
    "stat_pvalue_manual(\n",
    "    pwc_er, \n",
    "    tip.length = 0, \n",
    "    hide.ns = TRUE\n",
    ") +\n",
    "labs(\n",
    "    subtitle = get_test_label(res.aov_er, detailed = TRUE),\n",
    "    caption = get_pwc_label(pwc_er)\n",
    ")\n",
    "\n",
    "bxp_er\n",
    "\n",
    "ggsave(\"boxplot_er_two_mix_anova.png\", bxp_er, width = 4, height = 4)"
   ]
  }
 ],
 "metadata": {
  "kernelspec": {
   "display_name": "R",
   "language": "R",
   "name": "ir"
  },
  "language_info": {
   "codemirror_mode": "r",
   "file_extension": ".r",
   "mimetype": "text/x-r-source",
   "name": "R",
   "pygments_lexer": "r",
   "version": "3.6.1"
  }
 },
 "nbformat": 4,
 "nbformat_minor": 4
}
